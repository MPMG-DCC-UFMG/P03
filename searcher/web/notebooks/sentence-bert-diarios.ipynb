{
 "cells": [
  {
   "cell_type": "code",
   "execution_count": 86,
   "id": "6ed021a8",
   "metadata": {},
   "outputs": [],
   "source": [
    "import pandas as pd\n",
    "import os\n",
    "import json\n",
    "from tqdm import tqdm\n",
    "pd.set_option('max_colwidth', 400)"
   ]
  },
  {
   "cell_type": "code",
   "execution_count": 90,
   "id": "3d9cd41d",
   "metadata": {},
   "outputs": [],
   "source": [
    "import pandas as pd\n",
    "from scipy import spatial\n",
    "import numpy as np\n",
    "from tqdm import tqdm\n",
    "from torch.utils.data import DataLoader\n",
    "from scipy import stats\n",
    "from sklearn.metrics.pairwise import cosine_similarity\n",
    "from sentence_transformers import SentenceTransformer, LoggingHandler, util, models, evaluation, losses, InputExample"
   ]
  },
  {
   "cell_type": "markdown",
   "id": "88c3992e",
   "metadata": {},
   "source": [
    "# Leitura da entrada"
   ]
  },
  {
   "cell_type": "code",
   "execution_count": 66,
   "id": "cc71882e",
   "metadata": {},
   "outputs": [],
   "source": [
    "def transform_json(diario_json):\n",
    "    dict_list =  []\n",
    "    for key, value in json.loads(diario_json).items():\n",
    "        for v in value:\n",
    "            v[\"origin\"] = key\n",
    "            dict_list.append(v)\n",
    "    return pd.DataFrame(dict_list)"
   ]
  },
  {
   "cell_type": "code",
   "execution_count": 98,
   "id": "23aa5785",
   "metadata": {},
   "outputs": [
    {
     "name": "stderr",
     "output_type": "stream",
     "text": [
      "100%|█████████████████████████████████████████████████████████████████████████████| 1640/1640 [00:20<00:00, 80.83it/s]\n"
     ]
    }
   ],
   "source": [
    "dfs = []\n",
    "directory = \"../saida_segmentacao/AMM/\"\n",
    "for filename in tqdm(list(os.listdir(directory))):\n",
    "    with open(directory + filename, \"r\") as jsonfile:\n",
    "        diario_json = jsonfile.read()\n",
    "        dfs.append(transform_json(diario_json))"
   ]
  },
  {
   "cell_type": "code",
   "execution_count": 99,
   "id": "b59c2b8c",
   "metadata": {},
   "outputs": [],
   "source": [
    "diario_df = pd.concat(dfs)"
   ]
  },
  {
   "cell_type": "code",
   "execution_count": 100,
   "id": "8f1fb958",
   "metadata": {},
   "outputs": [
    {
     "data": {
      "text/html": [
       "<div>\n",
       "<style scoped>\n",
       "    .dataframe tbody tr th:only-of-type {\n",
       "        vertical-align: middle;\n",
       "    }\n",
       "\n",
       "    .dataframe tbody tr th {\n",
       "        vertical-align: top;\n",
       "    }\n",
       "\n",
       "    .dataframe thead th {\n",
       "        text-align: right;\n",
       "    }\n",
       "</style>\n",
       "<table border=\"1\" class=\"dataframe\">\n",
       "  <thead>\n",
       "    <tr style=\"text-align: right;\">\n",
       "      <th></th>\n",
       "      <th>titulo</th>\n",
       "      <th>subtitulo</th>\n",
       "      <th>materia</th>\n",
       "      <th>publicador</th>\n",
       "      <th>id</th>\n",
       "      <th>origin</th>\n",
       "    </tr>\n",
       "  </thead>\n",
       "  <tbody>\n",
       "    <tr>\n",
       "      <th>191</th>\n",
       "      <td>LICITAÇÃO E CONTRATOS</td>\n",
       "      <td>PREGÃO PRESENCIAL Nº 034/2019</td>\n",
       "      <td>Processo Licitatório n°071/2019 Através de seu Pregoeiro Municipal - Haroldo Lourenço da Rocha e sua Equipe de Apoio, comunica que fará realizar às 09:00 horas do dia 02 de agosto de 2019, na sede da Prefeitura Municipal de Itamarati de Minas, licitação tipo menor preço por item, que tem por objetivo a contratação de Empresa Seguradora para cobertura de seguro da frota de veículos da prefeitur...</td>\n",
       "      <td>Haroldo Lourenço da Rocha</td>\n",
       "      <td>7B0CA45D</td>\n",
       "      <td>PREFEITURA DE ITAMARATI DE MINAS</td>\n",
       "    </tr>\n",
       "    <tr>\n",
       "      <th>128</th>\n",
       "      <td>COMISSÃO DE LICITAÇÃO</td>\n",
       "      <td>EXTRATO DE CONTRATO</td>\n",
       "      <td>Extrato de Contrato nº 007/2016 - Processo Licitatório nº 384/2015 - Pregão Presencial Nº 053/2015 – Objeto: Aquisição de gêneros alimentícios para a merenda escolar. A Prefeitura Municipal de Japaraíba/MG torna público que celebrou Contrato com a empresa Açougue e Mercearia Andorinha Ltda - ME ao preço global de R$66.771,62 até 31/12/2016. Japaraíba/MG, 20/01/2016. ROBERTO EMILIO LOPES Prefei...</td>\n",
       "      <td>Roselene Maria Frazão</td>\n",
       "      <td>A0582115</td>\n",
       "      <td>PREFEITURA DE JAPARAIBA</td>\n",
       "    </tr>\n",
       "    <tr>\n",
       "      <th>281</th>\n",
       "      <td>LICITAÇÕES, CONTRATOS, ATOS ADMINISTRATIVOS,</td>\n",
       "      <td>ETC ERRATA 001 - PREGÃO 064/2017</td>\n",
       "      <td>MUNICÍPIO DE PIRANGUINHO – Retificação de Edital de Licitação - ERRATA 001 – PREGÃO PRESENCIAL Nº 064/2017 – PROCESSO: 119/2017- OBJETO:AQUISIÇÃO DE MATERIAIS DE CONSUMO E UTENSÍLIOS DOMÉSTICOS PARA SECRETARIA MUNICIPAL DE EDUCAÇÃO E SECRETARIA MUNICIPAL DE SAÚDE – EXCLUSIVO PARA ME, EPP e MEI. HOUVE ALTERAÇÃO NO OBJETO DA LICITAÇÃO – TERMO DE REFERÊNCIA, no que se refere ao quantitativo e esp...</td>\n",
       "      <td>Luciana Cristina Ribeiro</td>\n",
       "      <td>9904779B</td>\n",
       "      <td>PREFEITURA DE PIRANGUINHO</td>\n",
       "    </tr>\n",
       "  </tbody>\n",
       "</table>\n",
       "</div>"
      ],
      "text/plain": [
       "                                           titulo  \\\n",
       "191                         LICITAÇÃO E CONTRATOS   \n",
       "128                         COMISSÃO DE LICITAÇÃO   \n",
       "281  LICITAÇÕES, CONTRATOS, ATOS ADMINISTRATIVOS,   \n",
       "\n",
       "                            subtitulo  \\\n",
       "191     PREGÃO PRESENCIAL Nº 034/2019   \n",
       "128               EXTRATO DE CONTRATO   \n",
       "281  ETC ERRATA 001 - PREGÃO 064/2017   \n",
       "\n",
       "                                                                                                                                                                                                                                                                                                                                                                                                             materia  \\\n",
       "191  Processo Licitatório n°071/2019 Através de seu Pregoeiro Municipal - Haroldo Lourenço da Rocha e sua Equipe de Apoio, comunica que fará realizar às 09:00 horas do dia 02 de agosto de 2019, na sede da Prefeitura Municipal de Itamarati de Minas, licitação tipo menor preço por item, que tem por objetivo a contratação de Empresa Seguradora para cobertura de seguro da frota de veículos da prefeitur...   \n",
       "128  Extrato de Contrato nº 007/2016 - Processo Licitatório nº 384/2015 - Pregão Presencial Nº 053/2015 – Objeto: Aquisição de gêneros alimentícios para a merenda escolar. A Prefeitura Municipal de Japaraíba/MG torna público que celebrou Contrato com a empresa Açougue e Mercearia Andorinha Ltda - ME ao preço global de R$66.771,62 até 31/12/2016. Japaraíba/MG, 20/01/2016. ROBERTO EMILIO LOPES Prefei...   \n",
       "281  MUNICÍPIO DE PIRANGUINHO – Retificação de Edital de Licitação - ERRATA 001 – PREGÃO PRESENCIAL Nº 064/2017 – PROCESSO: 119/2017- OBJETO:AQUISIÇÃO DE MATERIAIS DE CONSUMO E UTENSÍLIOS DOMÉSTICOS PARA SECRETARIA MUNICIPAL DE EDUCAÇÃO E SECRETARIA MUNICIPAL DE SAÚDE – EXCLUSIVO PARA ME, EPP e MEI. HOUVE ALTERAÇÃO NO OBJETO DA LICITAÇÃO – TERMO DE REFERÊNCIA, no que se refere ao quantitativo e esp...   \n",
       "\n",
       "                    publicador        id                            origin  \n",
       "191  Haroldo Lourenço da Rocha  7B0CA45D  PREFEITURA DE ITAMARATI DE MINAS  \n",
       "128      Roselene Maria Frazão  A0582115           PREFEITURA DE JAPARAIBA  \n",
       "281   Luciana Cristina Ribeiro  9904779B         PREFEITURA DE PIRANGUINHO  "
      ]
     },
     "execution_count": 100,
     "metadata": {},
     "output_type": "execute_result"
    }
   ],
   "source": [
    "diario_df.sample(3)"
   ]
  },
  {
   "cell_type": "markdown",
   "id": "07d693d4",
   "metadata": {},
   "source": [
    "# Criação do dataset"
   ]
  },
  {
   "cell_type": "code",
   "execution_count": 133,
   "id": "9069e558",
   "metadata": {},
   "outputs": [],
   "source": [
    "def get_first_upper_tokens(text):\n",
    "    result = \" \"\n",
    "    for token in text.split():\n",
    "        if token == token.upper():\n",
    "            result += token + \" \"\n",
    "        else:\n",
    "            return result\n",
    "    return result\n",
    "\n",
    "def get_doc_text(text):\n",
    "    first_tokens = get_first_upper_tokens(text)\n",
    "    \n",
    "    return text[len(first_tokens) - 1:]\n",
    "\n",
    "def transform_df(diario_df):\n",
    "    diario_df[\"query\"] = diario_df.apply(lambda row:row[\"origin\"] +\" \" +  row[\"titulo\"] +\" \" + row[\"subtitulo\"],axis = 1)\n",
    "    diario_df[\"doc\"] = diario_df[\"materia\"]\n",
    "    diario_df[\"doc\"] = diario_df[\"materia\"].apply(get_doc_text)\n",
    "    diario_df[\"chamada\"] = diario_df[\"materia\"].apply(get_first_upper_tokens)\n",
    "    diario_df[\"query\"] = diario_df.apply(lambda row:row[\"query\"] + row[\"chamada\"],axis = 1)\n",
    "    return diario_df[[\"query\", \"doc\"]]"
   ]
  },
  {
   "cell_type": "code",
   "execution_count": 134,
   "id": "d0a62f09",
   "metadata": {
    "scrolled": false
   },
   "outputs": [
    {
     "data": {
      "text/html": [
       "<div>\n",
       "<style scoped>\n",
       "    .dataframe tbody tr th:only-of-type {\n",
       "        vertical-align: middle;\n",
       "    }\n",
       "\n",
       "    .dataframe tbody tr th {\n",
       "        vertical-align: top;\n",
       "    }\n",
       "\n",
       "    .dataframe thead th {\n",
       "        text-align: right;\n",
       "    }\n",
       "</style>\n",
       "<table border=\"1\" class=\"dataframe\">\n",
       "  <thead>\n",
       "    <tr style=\"text-align: right;\">\n",
       "      <th></th>\n",
       "      <th>query</th>\n",
       "      <th>doc</th>\n",
       "    </tr>\n",
       "  </thead>\n",
       "  <tbody>\n",
       "    <tr>\n",
       "      <th>0</th>\n",
       "      <td>ASSOCIAÇÃO DOS MUNICIPIOS DE BAIXA MOGIANA EDITAIS  TERMO DE HOMOLOGAÇÃO E ADJUDICAÇÃO -PROCESSO LICITATÓRIO Nº: 03/2014 - PREGÃO Nº: 01/2014</td>\n",
       "      <td>Pelo presente termo, levando em consideração o julgamento do Pregoeiro, que examinou as propostas referentes ao processo acima identificado, apontando como propostas mais vantajosas à Associação as apresentadas pelas empresas: CSC CONSTRUTORA SIQUEIRA CARDOSO LTDA, estabelecida na Rua dos Caetés, 285, CEP: 37.901-502, Passos/MG, CNPJ: 07.681.483/0001-86 e EXATI TECNOLOGIA E DESENVOLVIMENTO DE ...</td>\n",
       "    </tr>\n",
       "    <tr>\n",
       "      <th>1</th>\n",
       "      <td>ASSOCIAÇÃO DOS MUNICIPIOS DE BAIXA MOGIANA Expediente:</td>\n",
       "      <td>Associação Mineira de Municípios – AMM - MG Diretoria 2011/2013 Presidente - Ângelo José Roncalli de Freitas 1º Vice-Presidente - Acácio Mendes de Andrade 2º Vice-Presidente - José Milton de Carvalho Rocha 3º Vice-Presidente - Marco Antônio de Andrade 1º Secretário - Aurelio Cezar Donadia Ferreira 2º Secretário - Eduardo Antônio Carvalho 1º Tesoureiro - José Sacido Bacia Neto 2º Tesoureiro - M...</td>\n",
       "    </tr>\n",
       "    <tr>\n",
       "      <th>2</th>\n",
       "      <td>ASSOCIAÇÃO DOS MUNICIPIOS DE BAIXA MOGIANA SETOR DE COMPRAS E LICITAÇÕES  PREGÃO PRESENCIAL 03/2015 A</td>\n",
       "      <td>Câmara Municipal de Pará de Minas, com sede à Avenida Presidente Vargas, 1935 nesta cidade de Pará de Minas/MG, por intermédio de sua Pregoeira, torna público, para conhecimento dos interessados, que fará realizar licitação com as seguintes características: MODALIDADE: Pregão Presencial Nº03/2015 TIPO: Menor preço por lote OBJETO: REGISTRO DE PREÇO para futuras e eventuais aquisições de gênero...</td>\n",
       "    </tr>\n",
       "    <tr>\n",
       "      <th>3</th>\n",
       "      <td>CÂMARA MUNICIPAL DE RIO PARANAÍBA CÂMARA MUNICIPAL DE RIO PARANAÍBA  PREGÃO PRESENCIAL Nº 01/2015. AVISO DE LICITAÇÃO PROCESSO LICITATÓRIO Nº 02/2015 PREGÃO PRESENCIAL Nº 01/2015</td>\n",
       "      <td>OBJETO:Constitui objeto da presente licitação: Aquisição parcelada de combustível mediante requisição periódica, com especificações contidas no Anexo I - Termo de Referência do Edital. ·APRESENTAÇÃO PARA CREDENCIAMENTO DOS LICITANTES:Dia 09/02/2015, às 14h (quatorze horas). ·ABERTURA DA SESSÃO OFICIAL DO PREGÃO PRESENCIAL:Dia 09/02/2015, às 14h10m (quatorze horas e dez minutos). ·LOCAL PARA RE...</td>\n",
       "    </tr>\n",
       "    <tr>\n",
       "      <th>4</th>\n",
       "      <td>PREFEITURA DE ALVORADA DE MINAS LICITAÇÃO  EDITAL PREGAO PRESENCIAL 05/2015 A</td>\n",
       "      <td>Prefeitura Municipal de Alvorada de Minas torna público que fará realizar Processo Licitatório Pregão Presencial n.º 0005/2014. Objeto: REFERENTE A LOCACAO DE TRES TRATORES AGRICOLAS COM IMPLEMENTO ( GRADE, ENSILADEIRA E CARROÇA) PARA ATENDIMENTO AO PROGRAMA DE INCENTIVO AO PEQUENO PRODUTOR RURAL CONFORME LEI MUNICIPAL 832/2013 PARA O ANO DE 2015.. Entrega dos envelopes: até às 09:00:00 de Ter...</td>\n",
       "    </tr>\n",
       "    <tr>\n",
       "      <th>...</th>\n",
       "      <td>...</td>\n",
       "      <td>...</td>\n",
       "    </tr>\n",
       "    <tr>\n",
       "      <th>901</th>\n",
       "      <td>PREFEITURA MUNICIPAL DE VISCONDE DO RIO BRANCO DEPARTAMENTO DE CONVÊNIOS EXERCÍCIO DE 2020 EXTRATO DE PUBLICAÇÃO DISPENSA DE CHAMAMENTO PÚBLICO CELEBRAÇÃO DE TERMO DE FOMENTO N°. 002/2020 PARTES: MUNICÍPIO DE VISCONDE DO RIO BRANCO – MINAS GERAIS</td>\n",
       "      <td>e as OBRAS SOCIAIS DA PAROQUIA DE SÃO JOÃO BATISTA DE VISCONDE DO RIO BRANCO – CENTRO SOCIAL SÃO FRANCISCO DE ASSIS; CENTRO SOCIAL SANTA CLARA; LAR SÃO JOÃO BATISTA (LAR DOS IDOSOS). OBJETO: Firmar TERMO DE FOMENTO cujo objetivo é o repasse de recursos financeiros para as OBRAS SOCIAIS DA PAROQUIA DE SÃO JOÃO BATISTA DE VISCONDE DO RIO BRANCO – CENTRO SOCIAL SÃO FRANCISCO DE ASSIS; CENTRO SOCI...</td>\n",
       "    </tr>\n",
       "    <tr>\n",
       "      <th>902</th>\n",
       "      <td>PREFEITURA MUNICIPAL DE VISCONDE DO RIO BRANCO DEPARTAMENTO DE LICITAÇÃO E CONTRATOS EXTRATO DE AVISO DE PENALIDADE AVISO DE PENALIDADE – PREGÃO 058/2019 – PROCESSO LICITATÓRIO 108/2019 – ÓRGÃO GERENCIADOR: PREFEITURA MUNICIPAL DE VISCONDE DO RIO BRANCO – FORNECEDOR REGISTRADO: POLO COMERCIAL EIRELI– 1)</td>\n",
       "      <td>Aplicação de advertência à empresa de não mais participar de certames dos quais não possa cumprir com as obrigações assumidas e conforme as especificações do Edital, sob pena de aplicação de penalidade mais severa; 2) Anotação restritiva no cadastro de Fornecedores do Município; 3) Impedimento de licitar e contratar com a Prefeitura Municipal de Visconde do Rio Branco – MG, pelo prazo de 02 (d...</td>\n",
       "    </tr>\n",
       "    <tr>\n",
       "      <th>903</th>\n",
       "      <td>SAAE - SERVIÇO AUTÔNOMO DE ÁGUA E ESGOTO DE PIRAPORA SAAE PIRAPORA-MG ERRATA CONTRATO 12/2020</td>\n",
       "      <td>Serviço Autônomo de Água e Esgoto de Pirapora-MG. Erata: Na publicação realizada no dia 03/01/2020, pág. 201, onde se lê: “Extrato de Contrato. Contrato 10/2020. Contratado: Banco do Nordeste do Brasil SA – CNPJ 07.237.373/0077-28”, leia-se: “Extrato de Contrato. Contrato 12/2020. Contratado: Banco do Nordeste do Brasil SA – CNPJ 07.237.373/0077-28”.ALESSANDRA BARBOSA ROCHA VELOSO Licitações e...</td>\n",
       "    </tr>\n",
       "    <tr>\n",
       "      <th>904</th>\n",
       "      <td>SAAE - SERVIÇO AUTÔNOMO DE ÁGUA E ESGOTO DE PIRAPORA SAAE PIRAPORA-MG CONTRATO 13/2020</td>\n",
       "      <td>Serviço Autônomo de Água e Esgoto de Pirapora-MG. Extrato de Contrato. Contrato 13/2020. Contratado: Banco do Brasil SA – CNPJ 00.000.0000/0001-91. Processo 207/2019 – Credenciamento 01/2019. Subordinação legal: Lei 8666/1993 e posteriores alterações. Objeto: Recebimento de contas de água emitidas pelo SAAE/Pirapora-MG. Valor: R$1,01/guia recebida Home/Office Banking; R$1,01/guia recebida term...</td>\n",
       "    </tr>\n",
       "    <tr>\n",
       "      <th>905</th>\n",
       "      <td>PREFEITURA DE CARBONITA GABINETE DO PREFEITO PROCESSO SELETIVO SIMPLIFICADO EDITAL Nº 01/2020 - SME/ CARBONITA O MUNICÍPIO DE CARBONITA,</td>\n",
       "      <td>através da SECRETARIA MUNICIPAL DE EDUCAÇÃO, no uso de suas atribuições, nos termos do Artigo 37, Inciso 9º IX da Constituição Federal, das Leis Municipais Complementares nº 28/2013, 29/2013 e 45/2015, Lei Ordinária n° 545/2002 e Portaria nº 03 de 2020, torna pública a abertura das inscrições para Processo Seletivo Simplificado destinado à seleção e à posterior contratação, por tempo determina...</td>\n",
       "    </tr>\n",
       "  </tbody>\n",
       "</table>\n",
       "<p>699759 rows × 2 columns</p>\n",
       "</div>"
      ],
      "text/plain": [
       "                                                                                                                                                                                                                                                                                                                 query  \\\n",
       "0                                                                                                                                                                       ASSOCIAÇÃO DOS MUNICIPIOS DE BAIXA MOGIANA EDITAIS  TERMO DE HOMOLOGAÇÃO E ADJUDICAÇÃO -PROCESSO LICITATÓRIO Nº: 03/2014 - PREGÃO Nº: 01/2014    \n",
       "1                                                                                                                                                                                                                                                             ASSOCIAÇÃO DOS MUNICIPIOS DE BAIXA MOGIANA Expediente:     \n",
       "2                                                                                                                                                                                                               ASSOCIAÇÃO DOS MUNICIPIOS DE BAIXA MOGIANA SETOR DE COMPRAS E LICITAÇÕES  PREGÃO PRESENCIAL 03/2015 A    \n",
       "3                                                                                                                                  CÂMARA MUNICIPAL DE RIO PARANAÍBA CÂMARA MUNICIPAL DE RIO PARANAÍBA  PREGÃO PRESENCIAL Nº 01/2015. AVISO DE LICITAÇÃO PROCESSO LICITATÓRIO Nº 02/2015 PREGÃO PRESENCIAL Nº 01/2015    \n",
       "4                                                                                                                                                                                                                                       PREFEITURA DE ALVORADA DE MINAS LICITAÇÃO  EDITAL PREGAO PRESENCIAL 05/2015 A    \n",
       "..                                                                                                                                                                                                                                                                                                                 ...   \n",
       "901                                                            PREFEITURA MUNICIPAL DE VISCONDE DO RIO BRANCO DEPARTAMENTO DE CONVÊNIOS EXERCÍCIO DE 2020 EXTRATO DE PUBLICAÇÃO DISPENSA DE CHAMAMENTO PÚBLICO CELEBRAÇÃO DE TERMO DE FOMENTO N°. 002/2020 PARTES: MUNICÍPIO DE VISCONDE DO RIO BRANCO – MINAS GERAIS    \n",
       "902  PREFEITURA MUNICIPAL DE VISCONDE DO RIO BRANCO DEPARTAMENTO DE LICITAÇÃO E CONTRATOS EXTRATO DE AVISO DE PENALIDADE AVISO DE PENALIDADE – PREGÃO 058/2019 – PROCESSO LICITATÓRIO 108/2019 – ÓRGÃO GERENCIADOR: PREFEITURA MUNICIPAL DE VISCONDE DO RIO BRANCO – FORNECEDOR REGISTRADO: POLO COMERCIAL EIRELI– 1)    \n",
       "903                                                                                                                                                                                                                     SAAE - SERVIÇO AUTÔNOMO DE ÁGUA E ESGOTO DE PIRAPORA SAAE PIRAPORA-MG ERRATA CONTRATO 12/2020    \n",
       "904                                                                                                                                                                                                                            SAAE - SERVIÇO AUTÔNOMO DE ÁGUA E ESGOTO DE PIRAPORA SAAE PIRAPORA-MG CONTRATO 13/2020    \n",
       "905                                                                                                                                                                          PREFEITURA DE CARBONITA GABINETE DO PREFEITO PROCESSO SELETIVO SIMPLIFICADO EDITAL Nº 01/2020 - SME/ CARBONITA O MUNICÍPIO DE CARBONITA,    \n",
       "\n",
       "                                                                                                                                                                                                                                                                                                                                                                                                                 doc  \n",
       "0    Pelo presente termo, levando em consideração o julgamento do Pregoeiro, que examinou as propostas referentes ao processo acima identificado, apontando como propostas mais vantajosas à Associação as apresentadas pelas empresas: CSC CONSTRUTORA SIQUEIRA CARDOSO LTDA, estabelecida na Rua dos Caetés, 285, CEP: 37.901-502, Passos/MG, CNPJ: 07.681.483/0001-86 e EXATI TECNOLOGIA E DESENVOLVIMENTO DE ...  \n",
       "1    Associação Mineira de Municípios – AMM - MG Diretoria 2011/2013 Presidente - Ângelo José Roncalli de Freitas 1º Vice-Presidente - Acácio Mendes de Andrade 2º Vice-Presidente - José Milton de Carvalho Rocha 3º Vice-Presidente - Marco Antônio de Andrade 1º Secretário - Aurelio Cezar Donadia Ferreira 2º Secretário - Eduardo Antônio Carvalho 1º Tesoureiro - José Sacido Bacia Neto 2º Tesoureiro - M...  \n",
       "2    Câmara Municipal de Pará de Minas, com sede à Avenida Presidente Vargas, 1935 nesta cidade de Pará de Minas/MG, por intermédio de sua Pregoeira, torna público, para conhecimento dos interessados, que fará realizar licitação com as seguintes características: MODALIDADE: Pregão Presencial Nº03/2015 TIPO: Menor preço por lote OBJETO: REGISTRO DE PREÇO para futuras e eventuais aquisições de gênero...  \n",
       "3    OBJETO:Constitui objeto da presente licitação: Aquisição parcelada de combustível mediante requisição periódica, com especificações contidas no Anexo I - Termo de Referência do Edital. ·APRESENTAÇÃO PARA CREDENCIAMENTO DOS LICITANTES:Dia 09/02/2015, às 14h (quatorze horas). ·ABERTURA DA SESSÃO OFICIAL DO PREGÃO PRESENCIAL:Dia 09/02/2015, às 14h10m (quatorze horas e dez minutos). ·LOCAL PARA RE...  \n",
       "4    Prefeitura Municipal de Alvorada de Minas torna público que fará realizar Processo Licitatório Pregão Presencial n.º 0005/2014. Objeto: REFERENTE A LOCACAO DE TRES TRATORES AGRICOLAS COM IMPLEMENTO ( GRADE, ENSILADEIRA E CARROÇA) PARA ATENDIMENTO AO PROGRAMA DE INCENTIVO AO PEQUENO PRODUTOR RURAL CONFORME LEI MUNICIPAL 832/2013 PARA O ANO DE 2015.. Entrega dos envelopes: até às 09:00:00 de Ter...  \n",
       "..                                                                                                                                                                                                                                                                                                                                                                                                               ...  \n",
       "901  e as OBRAS SOCIAIS DA PAROQUIA DE SÃO JOÃO BATISTA DE VISCONDE DO RIO BRANCO – CENTRO SOCIAL SÃO FRANCISCO DE ASSIS; CENTRO SOCIAL SANTA CLARA; LAR SÃO JOÃO BATISTA (LAR DOS IDOSOS). OBJETO: Firmar TERMO DE FOMENTO cujo objetivo é o repasse de recursos financeiros para as OBRAS SOCIAIS DA PAROQUIA DE SÃO JOÃO BATISTA DE VISCONDE DO RIO BRANCO – CENTRO SOCIAL SÃO FRANCISCO DE ASSIS; CENTRO SOCI...  \n",
       "902  Aplicação de advertência à empresa de não mais participar de certames dos quais não possa cumprir com as obrigações assumidas e conforme as especificações do Edital, sob pena de aplicação de penalidade mais severa; 2) Anotação restritiva no cadastro de Fornecedores do Município; 3) Impedimento de licitar e contratar com a Prefeitura Municipal de Visconde do Rio Branco – MG, pelo prazo de 02 (d...  \n",
       "903  Serviço Autônomo de Água e Esgoto de Pirapora-MG. Erata: Na publicação realizada no dia 03/01/2020, pág. 201, onde se lê: “Extrato de Contrato. Contrato 10/2020. Contratado: Banco do Nordeste do Brasil SA – CNPJ 07.237.373/0077-28”, leia-se: “Extrato de Contrato. Contrato 12/2020. Contratado: Banco do Nordeste do Brasil SA – CNPJ 07.237.373/0077-28”.ALESSANDRA BARBOSA ROCHA VELOSO Licitações e...  \n",
       "904  Serviço Autônomo de Água e Esgoto de Pirapora-MG. Extrato de Contrato. Contrato 13/2020. Contratado: Banco do Brasil SA – CNPJ 00.000.0000/0001-91. Processo 207/2019 – Credenciamento 01/2019. Subordinação legal: Lei 8666/1993 e posteriores alterações. Objeto: Recebimento de contas de água emitidas pelo SAAE/Pirapora-MG. Valor: R$1,01/guia recebida Home/Office Banking; R$1,01/guia recebida term...  \n",
       "905  através da SECRETARIA MUNICIPAL DE EDUCAÇÃO, no uso de suas atribuições, nos termos do Artigo 37, Inciso 9º IX da Constituição Federal, das Leis Municipais Complementares nº 28/2013, 29/2013 e 45/2015, Lei Ordinária n° 545/2002 e Portaria nº 03 de 2020, torna pública a abertura das inscrições para Processo Seletivo Simplificado destinado à seleção e à posterior contratação, por tempo determina...  \n",
       "\n",
       "[699759 rows x 2 columns]"
      ]
     },
     "execution_count": 134,
     "metadata": {},
     "output_type": "execute_result"
    }
   ],
   "source": [
    "train_df = transform_df(diario_df)\n",
    "train_df"
   ]
  },
  {
   "cell_type": "markdown",
   "id": "3c60b2b2",
   "metadata": {},
   "source": [
    "# Treinamento"
   ]
  },
  {
   "cell_type": "code",
   "execution_count": 140,
   "id": "e62e847a",
   "metadata": {},
   "outputs": [],
   "source": [
    "from sentence_transformers import SentenceTransformer, models\n",
    "from torch import nn\n",
    "\n",
    "word_embedding_model = models.Transformer('allenai/scibert_scivocab_uncased', max_seq_length=150)\n",
    "pooling_model = models.Pooling(word_embedding_model.get_word_embedding_dimension())\n",
    "\n",
    "model = SentenceTransformer(modules=[word_embedding_model, pooling_model])"
   ]
  },
  {
   "cell_type": "code",
   "execution_count": 141,
   "id": "f95c437b",
   "metadata": {},
   "outputs": [
    {
     "name": "stderr",
     "output_type": "stream",
     "text": [
      "100%|██████████████████████████████████████████████████████████████████████▉| 699758/699759 [01:48<00:00, 6463.68it/s]\n"
     ]
    }
   ],
   "source": [
    "examples = []\n",
    "for i in tqdm(range(1, len(train_df)), position=0, leave=True, total=len(train_df)):\n",
    "  row, neg = train_df.iloc[i], train_df.iloc[i - 1]\n",
    "  examples.append(InputExample(texts=[row[\"query\"], row[\"doc\"], neg[\"doc\"]]))"
   ]
  },
  {
   "cell_type": "code",
   "execution_count": 142,
   "id": "7817f04f",
   "metadata": {},
   "outputs": [
    {
     "name": "stderr",
     "output_type": "stream",
     "text": [
      "100%|███████████████████████████████████████████████████████████████████████████████| 999/999 [00:19<00:00, 50.42it/s]"
     ]
    },
    {
     "name": "stdout",
     "output_type": "stream",
     "text": [
      "Média de similaridade dos positivos:  0.8480542653501034\n",
      "Média de similaridade dos negativos:  0.8405530993044377\n"
     ]
    },
    {
     "name": "stderr",
     "output_type": "stream",
     "text": [
      "\n"
     ]
    }
   ],
   "source": [
    "false_pairs, true_pairs = 0, 0\n",
    "SAMPLE_SIZE = 1000\n",
    "df_sample = train_df.sample(SAMPLE_SIZE, random_state=42)\n",
    "for i in tqdm(range(1, SAMPLE_SIZE)):\n",
    "  row, neg = df_sample.iloc[i], df_sample.iloc[i - 1]\n",
    "\n",
    "  output = model.encode([row[\"query\"], row[\"doc\"], neg[\"doc\"]]), \n",
    "\n",
    "  true_pairs += 1 - spatial.distance.cosine(output[0][0], output[0][1])\n",
    "  false_pairs += 1 - spatial.distance.cosine(output[0][0], output[0][2])\n",
    "    \n",
    "print(\"Média de similaridade dos positivos: \", true_pairs / SAMPLE_SIZE)\n",
    "print(\"Média de similaridade dos negativos: \", false_pairs / SAMPLE_SIZE)"
   ]
  },
  {
   "cell_type": "code",
   "execution_count": 143,
   "id": "0713d6e6",
   "metadata": {},
   "outputs": [
    {
     "data": {
      "application/vnd.jupyter.widget-view+json": {
       "model_id": "1e3f50dd8eff43188e4223e763a70169",
       "version_major": 2,
       "version_minor": 0
      },
      "text/plain": [
       "HBox(children=(HTML(value='Epoch'), FloatProgress(value=0.0, max=1.0), HTML(value='')))"
      ]
     },
     "metadata": {},
     "output_type": "display_data"
    },
    {
     "data": {
      "application/vnd.jupyter.widget-view+json": {
       "model_id": "c517bc5e3a5642b69d91bebfaef54f71",
       "version_major": 2,
       "version_minor": 0
      },
      "text/plain": [
       "HBox(children=(HTML(value='Iteration'), FloatProgress(value=0.0, max=2500.0), HTML(value='')))"
      ]
     },
     "metadata": {},
     "output_type": "display_data"
    },
    {
     "name": "stdout",
     "output_type": "stream",
     "text": [
      "\n",
      "\n"
     ]
    }
   ],
   "source": [
    "dataloader = DataLoader(examples[:20000], shuffle=True, batch_size=8)\n",
    "train_loss = losses.TripletLoss(model)\n",
    "\n",
    "#Tune the model\n",
    "model.fit(train_objectives=[(dataloader, train_loss)], epochs=1, warmup_steps=50)"
   ]
  },
  {
   "cell_type": "code",
   "execution_count": 144,
   "id": "b84b1e94",
   "metadata": {},
   "outputs": [
    {
     "name": "stderr",
     "output_type": "stream",
     "text": [
      "100%|███████████████████████████████████████████████████████████████████████████████| 999/999 [00:19<00:00, 50.19it/s]"
     ]
    },
    {
     "name": "stdout",
     "output_type": "stream",
     "text": [
      "Média de similaridade dos positivos:  0.706841331361793\n",
      "Média de similaridade dos negativos:  0.2014226446911416\n"
     ]
    },
    {
     "name": "stderr",
     "output_type": "stream",
     "text": [
      "\n"
     ]
    }
   ],
   "source": [
    "false_pairs, true_pairs = 0, 0\n",
    "SAMPLE_SIZE = 1000\n",
    "df_sample = train_df.sample(SAMPLE_SIZE, random_state=42)\n",
    "for i in tqdm(range(1, SAMPLE_SIZE)):\n",
    "  row, neg = df_sample.iloc[i], df_sample.iloc[i - 1]\n",
    "\n",
    "  output = model.encode([row[\"query\"], row[\"doc\"], neg[\"doc\"]]), \n",
    "\n",
    "  true_pairs += 1 - spatial.distance.cosine(output[0][0], output[0][1])\n",
    "  false_pairs += 1 - spatial.distance.cosine(output[0][0], output[0][2])\n",
    "\n",
    "print(\"Média de similaridade dos positivos: \", true_pairs / SAMPLE_SIZE)\n",
    "print(\"Média de similaridade dos negativos: \", false_pairs / SAMPLE_SIZE)"
   ]
  }
 ],
 "metadata": {
  "kernelspec": {
   "display_name": "Python 3 (ipykernel)",
   "language": "python",
   "name": "python3"
  },
  "language_info": {
   "codemirror_mode": {
    "name": "ipython",
    "version": 3
   },
   "file_extension": ".py",
   "mimetype": "text/x-python",
   "name": "python",
   "nbconvert_exporter": "python",
   "pygments_lexer": "ipython3",
   "version": "3.8.3"
  }
 },
 "nbformat": 4,
 "nbformat_minor": 5
}
