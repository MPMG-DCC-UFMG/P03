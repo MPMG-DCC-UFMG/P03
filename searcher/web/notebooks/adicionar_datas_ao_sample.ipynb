{
 "cells": [
  {
   "cell_type": "markdown",
   "id": "966218e3",
   "metadata": {},
   "source": [
    "### Sobre este notebook\n",
    "Notebook para ler o sample e acrescentar uma coluna de data de indexação falsa em diferente períodos, que será usado pelo script de notificação de novos documentos"
   ]
  },
  {
   "cell_type": "code",
   "execution_count": 1,
   "id": "1e0191f5",
   "metadata": {},
   "outputs": [],
   "source": [
    "import pandas as pd"
   ]
  },
  {
   "cell_type": "code",
   "execution_count": 2,
   "id": "13168adf",
   "metadata": {},
   "outputs": [],
   "source": [
    "original_sample_files = [\n",
    "    '../indexer/indices-sample/diarios_segmentado/diarios-amm-segmentado.csv',\n",
    "    '../indexer/indices-sample/diarios/diarios-amm.csv',\n",
    "    '../indexer/indices-sample/diarios/diarios-bh.csv',\n",
    "    '../indexer/indices-sample/licitacoes/licitacoes-obras.csv',\n",
    "    '../indexer/indices-sample/processos/processos-trf.csv'\n",
    "]"
   ]
  },
  {
   "cell_type": "code",
   "execution_count": 7,
   "id": "d78fa229",
   "metadata": {},
   "outputs": [],
   "source": [
    "for i, filepath in enumerate(original_sample_files):\n",
    "    filepath = original_sample_files[i]\n",
    "    df = pd.read_csv(filepath)\n",
    "    \n",
    "    # no caso do diário segmentado tenho que fazer diferente\n",
    "    # pois os segmentos com o mesmo pai devem possuir a mesma data\n",
    "    if i == 0:\n",
    "        # seta a data do documento de acordo com o ID do pai\n",
    "        id_pais = df['id_pai'].unique()\n",
    "        data_pais = {}\n",
    "        block_size = int(len(id_pais) / 5)\n",
    "        for i in range(5):\n",
    "            start = block_size * i\n",
    "            end = block_size * i + block_size\n",
    "            for j in range(start, end):\n",
    "                data_pais[id_pais[j]] = '2021-0'+str(i+1)+'-01'\n",
    "\n",
    "        # percorre o DF atualizando as datas pelo id_pai\n",
    "        df['data_indexacao'] = ''\n",
    "        for id_pai, data_indexacao in data_pais.items():\n",
    "            df.loc[df['id_pai']==id_pai, 'data_indexacao'] = data_indexacao\n",
    "    # ----------------------------------------------------------------------\n",
    "    else:\n",
    "        # cria uma coluna vazia pra todo o DF e depois preenche bloco a bloco\n",
    "        # com a data avançando um mês a cada bloco\n",
    "        df['data_indexacao'] = ''\n",
    "        block_size = int(len(df) / 5)\n",
    "        for i in range(5):\n",
    "            start = block_size * i\n",
    "            end = block_size * i + block_size\n",
    "            df.loc[start:end, 'data_indexacao'] = '2021-0'+str(i+1)+'-01'\n",
    "\n",
    "    # -----------------------------------------------------------------------\n",
    "    # salva em um novo CSV com mesmo nome + o sufixo '_novo'\n",
    "    path_name, file_name = filepath.rsplit('/', 1)\n",
    "    file_name = file_name.split('.')[0]\n",
    "    df.to_csv(path_name+'/'+file_name+'_novo.csv', index=False)"
   ]
  },
  {
   "cell_type": "code",
   "execution_count": null,
   "id": "167c29e3",
   "metadata": {},
   "outputs": [],
   "source": []
  }
 ],
 "metadata": {
  "kernelspec": {
   "display_name": "mpmg",
   "language": "python",
   "name": "mpmg"
  },
  "language_info": {
   "codemirror_mode": {
    "name": "ipython",
    "version": 3
   },
   "file_extension": ".py",
   "mimetype": "text/x-python",
   "name": "python",
   "nbconvert_exporter": "python",
   "pygments_lexer": "ipython3",
   "version": "3.7.11"
  }
 },
 "nbformat": 4,
 "nbformat_minor": 5
}
