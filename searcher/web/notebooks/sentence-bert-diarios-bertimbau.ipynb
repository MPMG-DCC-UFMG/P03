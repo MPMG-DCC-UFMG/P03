{
 "cells": [
  {
   "cell_type": "code",
   "execution_count": 27,
   "id": "6ed021a8",
   "metadata": {},
   "outputs": [],
   "source": [
    "import pandas as pd\n",
    "import os\n",
    "import json\n",
    "from tqdm import tqdm\n",
    "pd.set_option('max_colwidth', 400)"
   ]
  },
  {
   "cell_type": "code",
   "execution_count": 28,
   "id": "3d9cd41d",
   "metadata": {},
   "outputs": [],
   "source": [
    "import pandas as pd\n",
    "from scipy import spatial\n",
    "import numpy as np\n",
    "from tqdm import tqdm\n",
    "from torch.utils.data import DataLoader\n",
    "from scipy import stats\n",
    "from sklearn.metrics.pairwise import cosine_similarity\n",
    "from sentence_transformers import SentenceTransformer, LoggingHandler, util, models, evaluation, losses, InputExample"
   ]
  },
  {
   "cell_type": "markdown",
   "id": "88c3992e",
   "metadata": {},
   "source": [
    "# Leitura da entrada"
   ]
  },
  {
   "cell_type": "code",
   "execution_count": 29,
   "id": "cc71882e",
   "metadata": {},
   "outputs": [],
   "source": [
    "def transform_json(diario_json):\n",
    "    dict_list =  []\n",
    "    for key, value in json.loads(diario_json).items():\n",
    "        for v in value:\n",
    "            v[\"origin\"] = key\n",
    "            dict_list.append(v)\n",
    "    return pd.DataFrame(dict_list)"
   ]
  },
  {
   "cell_type": "code",
   "execution_count": 30,
   "id": "23aa5785",
   "metadata": {},
   "outputs": [
    {
     "name": "stderr",
     "output_type": "stream",
     "text": [
      "100%|█████████████████████████████████████████████████████████████████████████████| 1640/1640 [00:20<00:00, 81.80it/s]\n"
     ]
    }
   ],
   "source": [
    "dfs = []\n",
    "directory = \"../saida_segmentacao/AMM/\"\n",
    "for filename in tqdm(list(os.listdir(directory))):\n",
    "    with open(directory + filename, \"r\") as jsonfile:\n",
    "        diario_json = jsonfile.read()\n",
    "        dfs.append(transform_json(diario_json))"
   ]
  },
  {
   "cell_type": "code",
   "execution_count": 32,
   "id": "b59c2b8c",
   "metadata": {},
   "outputs": [
    {
     "data": {
      "text/html": [
       "<div>\n",
       "<style scoped>\n",
       "    .dataframe tbody tr th:only-of-type {\n",
       "        vertical-align: middle;\n",
       "    }\n",
       "\n",
       "    .dataframe tbody tr th {\n",
       "        vertical-align: top;\n",
       "    }\n",
       "\n",
       "    .dataframe thead th {\n",
       "        text-align: right;\n",
       "    }\n",
       "</style>\n",
       "<table border=\"1\" class=\"dataframe\">\n",
       "  <thead>\n",
       "    <tr style=\"text-align: right;\">\n",
       "      <th></th>\n",
       "      <th>titulo</th>\n",
       "      <th>subtitulo</th>\n",
       "      <th>materia</th>\n",
       "      <th>publicador</th>\n",
       "      <th>id</th>\n",
       "      <th>origin</th>\n",
       "    </tr>\n",
       "  </thead>\n",
       "  <tbody>\n",
       "    <tr>\n",
       "      <th>253</th>\n",
       "      <td>SECRETARIA MUNICIPAL DE ASSISTÊNCIA SOCIAL</td>\n",
       "      <td>RESULTADO PONTUAÇÃO DE TÍTULOS EDITAL SMAS Nº 005/2019</td>\n",
       "      <td>Nº 01 02 03 Maria Luiza Theodoro 04 Meirielle Badaró Silva 05 06Nome Bárbara de Abreu Procópio Vivian Fontanella de Melo Pontuação 10 10 2 2 2 2 Luana Rodrigues Pires Lotte Iano Bittencourt de Souza 07 08 09 10 Marisa Aparecida de Oliveira Fajardo 11 12 Maria Marta Severo Jaqueline Dutra de Castro 13 Ivone de Moraes Camilo 14 Carmen Aparecida Medeiros Netto 15 Regina Barbosa Vargas 16 Fernanda...</td>\n",
       "      <td>Tatiane Bonini Cosine</td>\n",
       "      <td>98643BA4</td>\n",
       "      <td>PREFEITURA DE LEOPOLDINA</td>\n",
       "    </tr>\n",
       "    <tr>\n",
       "      <th>96</th>\n",
       "      <td>PREFEITURA MUNICIPAL DE DIVINÓPOLIS</td>\n",
       "      <td></td>\n",
       "      <td>SECRETARIA MUNICIPAL DE ADMINISTRAÇÃO,ORÇAMENTO E INFORMAÇÃO O Secretário de Administração, Orçamento e Informação, Sr. Gilberto Tavares Machado, no uso de suas atribuições, CANCELA a prorrogação da jornada de trabalho (extensão de carga horária) de 02 (duas) horas por dia à servidora IVONETE DOLHER, matriculada sob o nº 0202021-4, detentora do cargo efetivo de Servente Escolar, com efeitos re...</td>\n",
       "      <td>Daniel Felipe da Costa</td>\n",
       "      <td>226A1227</td>\n",
       "      <td>PREFEITURA DE DIVINÓPOLIS</td>\n",
       "    </tr>\n",
       "    <tr>\n",
       "      <th>49</th>\n",
       "      <td>SERVIÇO DE PESSOAL</td>\n",
       "      <td></td>\n",
       "      <td>PORTARIA Nº 2694/2014 CONCEDE LICENÇAMATERNIDADE À LILIANE REIS ASSIS A Prefeita Municipal de Desterro do Melo, no uso de suas atribuições legais e, em conformidade com o inciso VI do art. 66 da Lei Orgânica Municipal e, em especial com o Art. 7º, inciso XVIII da Constituição Federal de 1988, RESOLVE: Art. 1º Fica concedida Licença Maternidade à servidora Liliane Reis Assis, ocupante do cargo ...</td>\n",
       "      <td>Danilo Amaral Cimino</td>\n",
       "      <td>421D3AF4</td>\n",
       "      <td>MUNICÍPIO DE DESTERRO DO MELO</td>\n",
       "    </tr>\n",
       "  </tbody>\n",
       "</table>\n",
       "</div>"
      ],
      "text/plain": [
       "                                         titulo  \\\n",
       "253  SECRETARIA MUNICIPAL DE ASSISTÊNCIA SOCIAL   \n",
       "96          PREFEITURA MUNICIPAL DE DIVINÓPOLIS   \n",
       "49                           SERVIÇO DE PESSOAL   \n",
       "\n",
       "                                                  subtitulo  \\\n",
       "253  RESULTADO PONTUAÇÃO DE TÍTULOS EDITAL SMAS Nº 005/2019   \n",
       "96                                                            \n",
       "49                                                            \n",
       "\n",
       "                                                                                                                                                                                                                                                                                                                                                                                                             materia  \\\n",
       "253  Nº 01 02 03 Maria Luiza Theodoro 04 Meirielle Badaró Silva 05 06Nome Bárbara de Abreu Procópio Vivian Fontanella de Melo Pontuação 10 10 2 2 2 2 Luana Rodrigues Pires Lotte Iano Bittencourt de Souza 07 08 09 10 Marisa Aparecida de Oliveira Fajardo 11 12 Maria Marta Severo Jaqueline Dutra de Castro 13 Ivone de Moraes Camilo 14 Carmen Aparecida Medeiros Netto 15 Regina Barbosa Vargas 16 Fernanda...   \n",
       "96   SECRETARIA MUNICIPAL DE ADMINISTRAÇÃO,ORÇAMENTO E INFORMAÇÃO O Secretário de Administração, Orçamento e Informação, Sr. Gilberto Tavares Machado, no uso de suas atribuições, CANCELA a prorrogação da jornada de trabalho (extensão de carga horária) de 02 (duas) horas por dia à servidora IVONETE DOLHER, matriculada sob o nº 0202021-4, detentora do cargo efetivo de Servente Escolar, com efeitos re...   \n",
       "49   PORTARIA Nº 2694/2014 CONCEDE LICENÇAMATERNIDADE À LILIANE REIS ASSIS A Prefeita Municipal de Desterro do Melo, no uso de suas atribuições legais e, em conformidade com o inciso VI do art. 66 da Lei Orgânica Municipal e, em especial com o Art. 7º, inciso XVIII da Constituição Federal de 1988, RESOLVE: Art. 1º Fica concedida Licença Maternidade à servidora Liliane Reis Assis, ocupante do cargo ...   \n",
       "\n",
       "                 publicador        id                         origin  \n",
       "253   Tatiane Bonini Cosine  98643BA4       PREFEITURA DE LEOPOLDINA  \n",
       "96   Daniel Felipe da Costa  226A1227      PREFEITURA DE DIVINÓPOLIS  \n",
       "49     Danilo Amaral Cimino  421D3AF4  MUNICÍPIO DE DESTERRO DO MELO  "
      ]
     },
     "execution_count": 32,
     "metadata": {},
     "output_type": "execute_result"
    }
   ],
   "source": [
    "diario_df = pd.concat(dfs)\n",
    "diario_df.sample(3)"
   ]
  },
  {
   "cell_type": "markdown",
   "id": "07d693d4",
   "metadata": {},
   "source": [
    "# Criação do dataset"
   ]
  },
  {
   "cell_type": "code",
   "execution_count": 33,
   "id": "9069e558",
   "metadata": {},
   "outputs": [],
   "source": [
    "def transform_df(diario_df):\n",
    "    diario_df[\"query\"] = diario_df.apply(lambda row:row[\"origin\"] +\" \" +  row[\"titulo\"] +\" \" + row[\"subtitulo\"],axis = 1)\n",
    "    diario_df[\"doc\"] = diario_df[\"materia\"]\n",
    "    return diario_df[[\"query\", \"doc\"]]"
   ]
  },
  {
   "cell_type": "code",
   "execution_count": 34,
   "id": "d0a62f09",
   "metadata": {
    "scrolled": false
   },
   "outputs": [
    {
     "data": {
      "text/html": [
       "<div>\n",
       "<style scoped>\n",
       "    .dataframe tbody tr th:only-of-type {\n",
       "        vertical-align: middle;\n",
       "    }\n",
       "\n",
       "    .dataframe tbody tr th {\n",
       "        vertical-align: top;\n",
       "    }\n",
       "\n",
       "    .dataframe thead th {\n",
       "        text-align: right;\n",
       "    }\n",
       "</style>\n",
       "<table border=\"1\" class=\"dataframe\">\n",
       "  <thead>\n",
       "    <tr style=\"text-align: right;\">\n",
       "      <th></th>\n",
       "      <th>query</th>\n",
       "      <th>doc</th>\n",
       "    </tr>\n",
       "  </thead>\n",
       "  <tbody>\n",
       "    <tr>\n",
       "      <th>0</th>\n",
       "      <td>ASSOCIAÇÃO DOS MUNICIPIOS DE BAIXA MOGIANA EDITAIS</td>\n",
       "      <td>TERMO DE HOMOLOGAÇÃO E ADJUDICAÇÃO -PROCESSO LICITATÓRIO Nº: 03/2014 - PREGÃO Nº: 01/2014 Pelo presente termo, levando em consideração o julgamento do Pregoeiro, que examinou as propostas referentes ao processo acima identificado, apontando como propostas mais vantajosas à Associação as apresentadas pelas empresas: CSC CONSTRUTORA SIQUEIRA CARDOSO LTDA, estabelecida na Rua dos Caetés, 285, CEP...</td>\n",
       "    </tr>\n",
       "    <tr>\n",
       "      <th>1</th>\n",
       "      <td>ASSOCIAÇÃO DOS MUNICIPIOS DE BAIXA MOGIANA Expediente:</td>\n",
       "      <td>Associação Mineira de Municípios – AMM - MG Diretoria 2011/2013 Presidente - Ângelo José Roncalli de Freitas 1º Vice-Presidente - Acácio Mendes de Andrade 2º Vice-Presidente - José Milton de Carvalho Rocha 3º Vice-Presidente - Marco Antônio de Andrade 1º Secretário - Aurelio Cezar Donadia Ferreira 2º Secretário - Eduardo Antônio Carvalho 1º Tesoureiro - José Sacido Bacia Neto 2º Tesoureiro - M...</td>\n",
       "    </tr>\n",
       "    <tr>\n",
       "      <th>2</th>\n",
       "      <td>ASSOCIAÇÃO DOS MUNICIPIOS DE BAIXA MOGIANA SETOR DE COMPRAS E LICITAÇÕES</td>\n",
       "      <td>PREGÃO PRESENCIAL 03/2015 A Câmara Municipal de Pará de Minas, com sede à Avenida Presidente Vargas, 1935 nesta cidade de Pará de Minas/MG, por intermédio de sua Pregoeira, torna público, para conhecimento dos interessados, que fará realizar licitação com as seguintes características: MODALIDADE: Pregão Presencial Nº03/2015 TIPO: Menor preço por lote OBJETO: REGISTRO DE PREÇO para futuras e ev...</td>\n",
       "    </tr>\n",
       "    <tr>\n",
       "      <th>3</th>\n",
       "      <td>CÂMARA MUNICIPAL DE RIO PARANAÍBA CÂMARA MUNICIPAL DE RIO PARANAÍBA</td>\n",
       "      <td>PREGÃO PRESENCIAL Nº 01/2015. AVISO DE LICITAÇÃO PROCESSO LICITATÓRIO Nº 02/2015 PREGÃO PRESENCIAL Nº 01/2015 OBJETO:Constitui objeto da presente licitação: Aquisição parcelada de combustível mediante requisição periódica, com especificações contidas no Anexo I - Termo de Referência do Edital. ·APRESENTAÇÃO PARA CREDENCIAMENTO DOS LICITANTES:Dia 09/02/2015, às 14h (quatorze horas). ·ABERTURA D...</td>\n",
       "    </tr>\n",
       "    <tr>\n",
       "      <th>4</th>\n",
       "      <td>PREFEITURA DE ALVORADA DE MINAS LICITAÇÃO</td>\n",
       "      <td>EDITAL PREGAO PRESENCIAL 05/2015 A Prefeitura Municipal de Alvorada de Minas torna público que fará realizar Processo Licitatório Pregão Presencial n.º 0005/2014. Objeto: REFERENTE A LOCACAO DE TRES TRATORES AGRICOLAS COM IMPLEMENTO ( GRADE, ENSILADEIRA E CARROÇA) PARA ATENDIMENTO AO PROGRAMA DE INCENTIVO AO PEQUENO PRODUTOR RURAL CONFORME LEI MUNICIPAL 832/2013 PARA O ANO DE 2015.. Entrega do...</td>\n",
       "    </tr>\n",
       "    <tr>\n",
       "      <th>...</th>\n",
       "      <td>...</td>\n",
       "      <td>...</td>\n",
       "    </tr>\n",
       "    <tr>\n",
       "      <th>901</th>\n",
       "      <td>PREFEITURA MUNICIPAL DE VISCONDE DO RIO BRANCO DEPARTAMENTO DE CONVÊNIOS EXERCÍCIO DE 2020</td>\n",
       "      <td>EXTRATO DE PUBLICAÇÃO DISPENSA DE CHAMAMENTO PÚBLICO CELEBRAÇÃO DE TERMO DE FOMENTO N°. 002/2020 PARTES: MUNICÍPIO DE VISCONDE DO RIO BRANCO – MINAS GERAIS e as OBRAS SOCIAIS DA PAROQUIA DE SÃO JOÃO BATISTA DE VISCONDE DO RIO BRANCO – CENTRO SOCIAL SÃO FRANCISCO DE ASSIS; CENTRO SOCIAL SANTA CLARA; LAR SÃO JOÃO BATISTA (LAR DOS IDOSOS). OBJETO: Firmar TERMO DE FOMENTO cujo objetivo é o repasse...</td>\n",
       "    </tr>\n",
       "    <tr>\n",
       "      <th>902</th>\n",
       "      <td>PREFEITURA MUNICIPAL DE VISCONDE DO RIO BRANCO DEPARTAMENTO DE LICITAÇÃO E CONTRATOS EXTRATO DE AVISO DE PENALIDADE</td>\n",
       "      <td>AVISO DE PENALIDADE – PREGÃO 058/2019 – PROCESSO LICITATÓRIO 108/2019 – ÓRGÃO GERENCIADOR: PREFEITURA MUNICIPAL DE VISCONDE DO RIO BRANCO – FORNECEDOR REGISTRADO: POLO COMERCIAL EIRELI– 1) Aplicação de advertência à empresa de não mais participar de certames dos quais não possa cumprir com as obrigações assumidas e conforme as especificações do Edital, sob pena de aplicação de penalidade mais ...</td>\n",
       "    </tr>\n",
       "    <tr>\n",
       "      <th>903</th>\n",
       "      <td>SAAE - SERVIÇO AUTÔNOMO DE ÁGUA E ESGOTO DE PIRAPORA SAAE PIRAPORA-MG ERRATA CONTRATO 12/2020</td>\n",
       "      <td>Serviço Autônomo de Água e Esgoto de Pirapora-MG. Erata: Na publicação realizada no dia 03/01/2020, pág. 201, onde se lê: “Extrato de Contrato. Contrato 10/2020. Contratado: Banco do Nordeste do Brasil SA – CNPJ 07.237.373/0077-28”, leia-se: “Extrato de Contrato. Contrato 12/2020. Contratado: Banco do Nordeste do Brasil SA – CNPJ 07.237.373/0077-28”.ALESSANDRA BARBOSA ROCHA VELOSO Licitações e...</td>\n",
       "    </tr>\n",
       "    <tr>\n",
       "      <th>904</th>\n",
       "      <td>SAAE - SERVIÇO AUTÔNOMO DE ÁGUA E ESGOTO DE PIRAPORA SAAE PIRAPORA-MG CONTRATO 13/2020</td>\n",
       "      <td>Serviço Autônomo de Água e Esgoto de Pirapora-MG. Extrato de Contrato. Contrato 13/2020. Contratado: Banco do Brasil SA – CNPJ 00.000.0000/0001-91. Processo 207/2019 – Credenciamento 01/2019. Subordinação legal: Lei 8666/1993 e posteriores alterações. Objeto: Recebimento de contas de água emitidas pelo SAAE/Pirapora-MG. Valor: R$1,01/guia recebida Home/Office Banking; R$1,01/guia recebida term...</td>\n",
       "    </tr>\n",
       "    <tr>\n",
       "      <th>905</th>\n",
       "      <td>PREFEITURA DE CARBONITA GABINETE DO PREFEITO PROCESSO SELETIVO SIMPLIFICADO EDITAL Nº 01/2020 - SME/ CARBONITA</td>\n",
       "      <td>O MUNICÍPIO DE CARBONITA, através da SECRETARIA MUNICIPAL DE EDUCAÇÃO, no uso de suas atribuições, nos termos do Artigo 37, Inciso 9º IX da Constituição Federal, das Leis Municipais Complementares nº 28/2013, 29/2013 e 45/2015, Lei Ordinária n° 545/2002 e Portaria nº 03 de 2020, torna pública a abertura das inscrições para Processo Seletivo Simplificado destinado à seleção e à posterior contra...</td>\n",
       "    </tr>\n",
       "  </tbody>\n",
       "</table>\n",
       "<p>699759 rows × 2 columns</p>\n",
       "</div>"
      ],
      "text/plain": [
       "                                                                                                                   query  \\\n",
       "0                                                                    ASSOCIAÇÃO DOS MUNICIPIOS DE BAIXA MOGIANA EDITAIS    \n",
       "1                                                                ASSOCIAÇÃO DOS MUNICIPIOS DE BAIXA MOGIANA Expediente:    \n",
       "2                                              ASSOCIAÇÃO DOS MUNICIPIOS DE BAIXA MOGIANA SETOR DE COMPRAS E LICITAÇÕES    \n",
       "3                                                   CÂMARA MUNICIPAL DE RIO PARANAÍBA CÂMARA MUNICIPAL DE RIO PARANAÍBA    \n",
       "4                                                                             PREFEITURA DE ALVORADA DE MINAS LICITAÇÃO    \n",
       "..                                                                                                                   ...   \n",
       "901                           PREFEITURA MUNICIPAL DE VISCONDE DO RIO BRANCO DEPARTAMENTO DE CONVÊNIOS EXERCÍCIO DE 2020   \n",
       "902  PREFEITURA MUNICIPAL DE VISCONDE DO RIO BRANCO DEPARTAMENTO DE LICITAÇÃO E CONTRATOS EXTRATO DE AVISO DE PENALIDADE   \n",
       "903                        SAAE - SERVIÇO AUTÔNOMO DE ÁGUA E ESGOTO DE PIRAPORA SAAE PIRAPORA-MG ERRATA CONTRATO 12/2020   \n",
       "904                               SAAE - SERVIÇO AUTÔNOMO DE ÁGUA E ESGOTO DE PIRAPORA SAAE PIRAPORA-MG CONTRATO 13/2020   \n",
       "905       PREFEITURA DE CARBONITA GABINETE DO PREFEITO PROCESSO SELETIVO SIMPLIFICADO EDITAL Nº 01/2020 - SME/ CARBONITA   \n",
       "\n",
       "                                                                                                                                                                                                                                                                                                                                                                                                                 doc  \n",
       "0    TERMO DE HOMOLOGAÇÃO E ADJUDICAÇÃO -PROCESSO LICITATÓRIO Nº: 03/2014 - PREGÃO Nº: 01/2014 Pelo presente termo, levando em consideração o julgamento do Pregoeiro, que examinou as propostas referentes ao processo acima identificado, apontando como propostas mais vantajosas à Associação as apresentadas pelas empresas: CSC CONSTRUTORA SIQUEIRA CARDOSO LTDA, estabelecida na Rua dos Caetés, 285, CEP...  \n",
       "1    Associação Mineira de Municípios – AMM - MG Diretoria 2011/2013 Presidente - Ângelo José Roncalli de Freitas 1º Vice-Presidente - Acácio Mendes de Andrade 2º Vice-Presidente - José Milton de Carvalho Rocha 3º Vice-Presidente - Marco Antônio de Andrade 1º Secretário - Aurelio Cezar Donadia Ferreira 2º Secretário - Eduardo Antônio Carvalho 1º Tesoureiro - José Sacido Bacia Neto 2º Tesoureiro - M...  \n",
       "2    PREGÃO PRESENCIAL 03/2015 A Câmara Municipal de Pará de Minas, com sede à Avenida Presidente Vargas, 1935 nesta cidade de Pará de Minas/MG, por intermédio de sua Pregoeira, torna público, para conhecimento dos interessados, que fará realizar licitação com as seguintes características: MODALIDADE: Pregão Presencial Nº03/2015 TIPO: Menor preço por lote OBJETO: REGISTRO DE PREÇO para futuras e ev...  \n",
       "3    PREGÃO PRESENCIAL Nº 01/2015. AVISO DE LICITAÇÃO PROCESSO LICITATÓRIO Nº 02/2015 PREGÃO PRESENCIAL Nº 01/2015 OBJETO:Constitui objeto da presente licitação: Aquisição parcelada de combustível mediante requisição periódica, com especificações contidas no Anexo I - Termo de Referência do Edital. ·APRESENTAÇÃO PARA CREDENCIAMENTO DOS LICITANTES:Dia 09/02/2015, às 14h (quatorze horas). ·ABERTURA D...  \n",
       "4    EDITAL PREGAO PRESENCIAL 05/2015 A Prefeitura Municipal de Alvorada de Minas torna público que fará realizar Processo Licitatório Pregão Presencial n.º 0005/2014. Objeto: REFERENTE A LOCACAO DE TRES TRATORES AGRICOLAS COM IMPLEMENTO ( GRADE, ENSILADEIRA E CARROÇA) PARA ATENDIMENTO AO PROGRAMA DE INCENTIVO AO PEQUENO PRODUTOR RURAL CONFORME LEI MUNICIPAL 832/2013 PARA O ANO DE 2015.. Entrega do...  \n",
       "..                                                                                                                                                                                                                                                                                                                                                                                                               ...  \n",
       "901  EXTRATO DE PUBLICAÇÃO DISPENSA DE CHAMAMENTO PÚBLICO CELEBRAÇÃO DE TERMO DE FOMENTO N°. 002/2020 PARTES: MUNICÍPIO DE VISCONDE DO RIO BRANCO – MINAS GERAIS e as OBRAS SOCIAIS DA PAROQUIA DE SÃO JOÃO BATISTA DE VISCONDE DO RIO BRANCO – CENTRO SOCIAL SÃO FRANCISCO DE ASSIS; CENTRO SOCIAL SANTA CLARA; LAR SÃO JOÃO BATISTA (LAR DOS IDOSOS). OBJETO: Firmar TERMO DE FOMENTO cujo objetivo é o repasse...  \n",
       "902  AVISO DE PENALIDADE – PREGÃO 058/2019 – PROCESSO LICITATÓRIO 108/2019 – ÓRGÃO GERENCIADOR: PREFEITURA MUNICIPAL DE VISCONDE DO RIO BRANCO – FORNECEDOR REGISTRADO: POLO COMERCIAL EIRELI– 1) Aplicação de advertência à empresa de não mais participar de certames dos quais não possa cumprir com as obrigações assumidas e conforme as especificações do Edital, sob pena de aplicação de penalidade mais ...  \n",
       "903  Serviço Autônomo de Água e Esgoto de Pirapora-MG. Erata: Na publicação realizada no dia 03/01/2020, pág. 201, onde se lê: “Extrato de Contrato. Contrato 10/2020. Contratado: Banco do Nordeste do Brasil SA – CNPJ 07.237.373/0077-28”, leia-se: “Extrato de Contrato. Contrato 12/2020. Contratado: Banco do Nordeste do Brasil SA – CNPJ 07.237.373/0077-28”.ALESSANDRA BARBOSA ROCHA VELOSO Licitações e...  \n",
       "904  Serviço Autônomo de Água e Esgoto de Pirapora-MG. Extrato de Contrato. Contrato 13/2020. Contratado: Banco do Brasil SA – CNPJ 00.000.0000/0001-91. Processo 207/2019 – Credenciamento 01/2019. Subordinação legal: Lei 8666/1993 e posteriores alterações. Objeto: Recebimento de contas de água emitidas pelo SAAE/Pirapora-MG. Valor: R$1,01/guia recebida Home/Office Banking; R$1,01/guia recebida term...  \n",
       "905  O MUNICÍPIO DE CARBONITA, através da SECRETARIA MUNICIPAL DE EDUCAÇÃO, no uso de suas atribuições, nos termos do Artigo 37, Inciso 9º IX da Constituição Federal, das Leis Municipais Complementares nº 28/2013, 29/2013 e 45/2015, Lei Ordinária n° 545/2002 e Portaria nº 03 de 2020, torna pública a abertura das inscrições para Processo Seletivo Simplificado destinado à seleção e à posterior contra...  \n",
       "\n",
       "[699759 rows x 2 columns]"
      ]
     },
     "execution_count": 34,
     "metadata": {},
     "output_type": "execute_result"
    }
   ],
   "source": [
    "train_df = transform_df(diario_df)\n",
    "train_df"
   ]
  },
  {
   "cell_type": "markdown",
   "id": "3c60b2b2",
   "metadata": {},
   "source": [
    "# Treinamento"
   ]
  },
  {
   "cell_type": "code",
   "execution_count": 35,
   "id": "7817f04f",
   "metadata": {},
   "outputs": [],
   "source": [
    "def average_similarity():\n",
    "    false_pairs, true_pairs = 0, 0\n",
    "    SAMPLE_SIZE = 1000\n",
    "    df_sample = train_df.sample(SAMPLE_SIZE, random_state=42)\n",
    "    for i in tqdm(range(1, SAMPLE_SIZE)):\n",
    "      row, neg = df_sample.iloc[i], df_sample.iloc[i - 1]\n",
    "\n",
    "      output = model.encode([row[\"query\"], row[\"doc\"], neg[\"doc\"]]), \n",
    "\n",
    "      true_pairs += 1 - spatial.distance.cosine(output[0][0], output[0][1])\n",
    "      false_pairs += 1 - spatial.distance.cosine(output[0][0], output[0][2])\n",
    "\n",
    "    print(\"Média de similaridade dos positivos: \", true_pairs / SAMPLE_SIZE)\n",
    "    print(\"Média de similaridade dos negativos: \", false_pairs / SAMPLE_SIZE)"
   ]
  },
  {
   "cell_type": "code",
   "execution_count": 40,
   "id": "e62e847a",
   "metadata": {},
   "outputs": [],
   "source": [
    "from sentence_transformers import SentenceTransformer, models\n",
    "from torch import nn\n",
    "\n",
    "word_embedding_model = models.Transformer('neuralmind/bert-base-portuguese-cased', max_seq_length=150)\n",
    "pooling_model = models.Pooling(word_embedding_model.get_word_embedding_dimension())\n",
    "\n",
    "model = SentenceTransformer(modules=[word_embedding_model, pooling_model])"
   ]
  },
  {
   "cell_type": "code",
   "execution_count": 41,
   "id": "bb458c83",
   "metadata": {},
   "outputs": [
    {
     "name": "stderr",
     "output_type": "stream",
     "text": [
      "100%|███████████████████████████████████████████████████████████████████████████████| 999/999 [00:22<00:00, 44.09it/s]"
     ]
    },
    {
     "name": "stdout",
     "output_type": "stream",
     "text": [
      "Média de similaridade dos positivos:  0.7687452844977379\n",
      "Média de similaridade dos negativos:  0.7516179756540805\n"
     ]
    },
    {
     "name": "stderr",
     "output_type": "stream",
     "text": [
      "\n"
     ]
    }
   ],
   "source": [
    "average_similarity()"
   ]
  },
  {
   "cell_type": "code",
   "execution_count": 42,
   "id": "f95c437b",
   "metadata": {},
   "outputs": [
    {
     "name": "stderr",
     "output_type": "stream",
     "text": [
      "100%|████████████████████████████████████████████████████████████████████████▉| 19999/20000 [00:03<00:00, 6373.71it/s]\n"
     ]
    }
   ],
   "source": [
    "examples = []\n",
    "SAMPLE_SIZE = 20000\n",
    "for i in tqdm(range(1, len(train_df.sample(SAMPLE_SIZE, random_state=24))), position=0, leave=True, total=SAMPLE_SIZE):\n",
    "  row, neg = train_df.iloc[i], train_df.iloc[i - 1]\n",
    "  examples.append(InputExample(texts=[row[\"query\"], row[\"doc\"], neg[\"doc\"]]))"
   ]
  },
  {
   "cell_type": "code",
   "execution_count": 43,
   "id": "0713d6e6",
   "metadata": {},
   "outputs": [
    {
     "data": {
      "application/vnd.jupyter.widget-view+json": {
       "model_id": "1c1384aaa0f941acba5328da691c07cc",
       "version_major": 2,
       "version_minor": 0
      },
      "text/plain": [
       "HBox(children=(HTML(value='Epoch'), FloatProgress(value=0.0, max=1.0), HTML(value='')))"
      ]
     },
     "metadata": {},
     "output_type": "display_data"
    },
    {
     "data": {
      "application/vnd.jupyter.widget-view+json": {
       "model_id": "47538572784f4f90ba49e8820a93d0aa",
       "version_major": 2,
       "version_minor": 0
      },
      "text/plain": [
       "HBox(children=(HTML(value='Iteration'), FloatProgress(value=0.0, max=2500.0), HTML(value='')))"
      ]
     },
     "metadata": {},
     "output_type": "display_data"
    },
    {
     "name": "stdout",
     "output_type": "stream",
     "text": [
      "\n",
      "\n"
     ]
    }
   ],
   "source": [
    "dataloader = DataLoader(examples, shuffle=True, batch_size=8)\n",
    "train_loss = losses.TripletLoss(model)\n",
    "model.fit(train_objectives=[(dataloader, train_loss)], epochs=1, warmup_steps=50)"
   ]
  },
  {
   "cell_type": "code",
   "execution_count": 44,
   "id": "b84b1e94",
   "metadata": {},
   "outputs": [
    {
     "name": "stderr",
     "output_type": "stream",
     "text": [
      "100%|███████████████████████████████████████████████████████████████████████████████| 999/999 [00:23<00:00, 42.14it/s]"
     ]
    },
    {
     "name": "stdout",
     "output_type": "stream",
     "text": [
      "Média de similaridade dos positivos:  0.6971365534086944\n",
      "Média de similaridade dos negativos:  0.23703911202040034\n"
     ]
    },
    {
     "name": "stderr",
     "output_type": "stream",
     "text": [
      "\n"
     ]
    }
   ],
   "source": [
    "average_similarity()"
   ]
  }
 ],
 "metadata": {
  "kernelspec": {
   "display_name": "Python 3 (ipykernel)",
   "language": "python",
   "name": "python3"
  },
  "language_info": {
   "codemirror_mode": {
    "name": "ipython",
    "version": 3
   },
   "file_extension": ".py",
   "mimetype": "text/x-python",
   "name": "python",
   "nbconvert_exporter": "python",
   "pygments_lexer": "ipython3",
   "version": "3.8.3"
  }
 },
 "nbformat": 4,
 "nbformat_minor": 5
}
