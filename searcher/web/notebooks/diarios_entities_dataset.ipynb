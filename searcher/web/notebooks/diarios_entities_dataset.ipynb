{
 "cells": [
  {
   "cell_type": "code",
   "execution_count": 1,
   "id": "5ed3eae6",
   "metadata": {},
   "outputs": [],
   "source": [
    "import pandas as pd\n",
    "import os\n",
    "import json\n",
    "from tqdm import tqdm\n",
    "pd.set_option('max_colwidth', 400)"
   ]
  },
  {
   "cell_type": "code",
   "execution_count": 2,
   "id": "94a0ddde",
   "metadata": {},
   "outputs": [],
   "source": [
    "import subprocess\n",
    "import itertools"
   ]
  },
  {
   "cell_type": "code",
   "execution_count": 3,
   "id": "ce913170",
   "metadata": {},
   "outputs": [],
   "source": [
    "import pandas as pd\n",
    "from scipy import spatial\n",
    "import numpy as np\n",
    "from tqdm import tqdm\n",
    "from torch.utils.data import DataLoader\n",
    "from scipy import stats\n",
    "from sklearn.metrics.pairwise import cosine_similarity\n",
    "from sentence_transformers import SentenceTransformer, LoggingHandler, util, models, evaluation, losses, InputExample"
   ]
  },
  {
   "cell_type": "markdown",
   "id": "2684c965",
   "metadata": {},
   "source": [
    "# Leitura da entrada"
   ]
  },
  {
   "cell_type": "code",
   "execution_count": 4,
   "id": "d3f2743f",
   "metadata": {},
   "outputs": [],
   "source": [
    "def transform_json(diario_json):\n",
    "    dict_list =  []\n",
    "    for key, value in json.loads(diario_json).items():\n",
    "        for v in value:\n",
    "            v[\"origin\"] = key\n",
    "            dict_list.append(v)\n",
    "    return pd.DataFrame(dict_list)"
   ]
  },
  {
   "cell_type": "code",
   "execution_count": 5,
   "id": "ef6de98b",
   "metadata": {},
   "outputs": [
    {
     "name": "stderr",
     "output_type": "stream",
     "text": [
      "100%|████████████████████████████████████████████████████████████████████████████| 1640/1640 [00:10<00:00, 153.45it/s]\n"
     ]
    },
    {
     "data": {
      "text/html": [
       "<div>\n",
       "<style scoped>\n",
       "    .dataframe tbody tr th:only-of-type {\n",
       "        vertical-align: middle;\n",
       "    }\n",
       "\n",
       "    .dataframe tbody tr th {\n",
       "        vertical-align: top;\n",
       "    }\n",
       "\n",
       "    .dataframe thead th {\n",
       "        text-align: right;\n",
       "    }\n",
       "</style>\n",
       "<table border=\"1\" class=\"dataframe\">\n",
       "  <thead>\n",
       "    <tr style=\"text-align: right;\">\n",
       "      <th></th>\n",
       "      <th>titulo</th>\n",
       "      <th>subtitulo</th>\n",
       "      <th>materia</th>\n",
       "      <th>publicador</th>\n",
       "      <th>id</th>\n",
       "      <th>origin</th>\n",
       "    </tr>\n",
       "  </thead>\n",
       "  <tbody>\n",
       "    <tr>\n",
       "      <th>217</th>\n",
       "      <td>GABINETE DO PREFEITO</td>\n",
       "      <td>PORTARIA N. 3072/2014</td>\n",
       "      <td>Designa Membros da Comissão Municipal de Seleção para os Processos Seletivos Simplificados no Exercício de 2014 O Prefeito do Município de Rodeiro, Estado de Minas Gerais, no uso de atribuições que lhe confere o Art. 67, inciso VII, da Lei Orgânica Municipal, Resolve: Art. 1º Designar os membros da Comissão Municipal de Seleção dos Processos Seletivos Simplificados no Exercício de 2014 do Muni...</td>\n",
       "      <td>Frederico Pereira Paschoalino</td>\n",
       "      <td>1B8BA1EB</td>\n",
       "      <td>MUNICÍPIO DE RODEIRO</td>\n",
       "    </tr>\n",
       "    <tr>\n",
       "      <th>724</th>\n",
       "      <td>DEPARTAMENTO DE LICITAÇÃO</td>\n",
       "      <td></td>\n",
       "      <td>EXTRATO TERMO ADITIVO PL 019/2018, PP 009/2018 TERMO ADITIVO Nº 002 Contrato Administrativo nº 044/2018, PL nº 019/2018, PP nº 009/2018. Partes: Município de Senador Modestino Gonçalves-MG e a Empresa Gerir Administração e Serviços Ltda. ME, CNPJ nº 25.774.852/0001-67. Fica prorrogado o contrato original, passando a vigorar até o dia 31/12/2019. Objeto: CONTRATAÇÃO DE EMPRESA PARA PRESTAÇÃO DE...</td>\n",
       "      <td>Arnaldo de Oliveira Neto</td>\n",
       "      <td>8162A52A</td>\n",
       "      <td>PREFEITURA DE SENADOR MODESTINO GONÇALVES</td>\n",
       "    </tr>\n",
       "    <tr>\n",
       "      <th>418</th>\n",
       "      <td>DEPARTAMENTO DE COMPRAS E LICITAÇÕES</td>\n",
       "      <td>EXTRATO DA ATA DE REGISTRO DE PREÇOS Nº 183/2018</td>\n",
       "      <td>ATA DE REGISTRO DE PREÇOS Nº 183/2018 PROCESSO Nº: 98/2018 MODALIDADE: Pregão nº 79/2018 CONTRATANTE: MUNICIPIO DE SANTO ANTÔNIO DO MONTE CONTRATADO: Sociedade Montense de Radiofusão Ltda OBJETO: Registro de preços para futuras e eventuais contratações de empresas especializadas na prestação de serviços de inserções radiofônicas e propaganda volante, atendendo a solicitação da Assessoria de Co...</td>\n",
       "      <td>Ana Luiza Morais Silva</td>\n",
       "      <td>32E9E6E3</td>\n",
       "      <td>PREFEITURA DE SANTO ANTÔNIO DO MONTE</td>\n",
       "    </tr>\n",
       "  </tbody>\n",
       "</table>\n",
       "</div>"
      ],
      "text/plain": [
       "                                   titulo  \\\n",
       "217                  GABINETE DO PREFEITO   \n",
       "724             DEPARTAMENTO DE LICITAÇÃO   \n",
       "418  DEPARTAMENTO DE COMPRAS E LICITAÇÕES   \n",
       "\n",
       "                                            subtitulo  \\\n",
       "217                             PORTARIA N. 3072/2014   \n",
       "724                                                     \n",
       "418  EXTRATO DA ATA DE REGISTRO DE PREÇOS Nº 183/2018   \n",
       "\n",
       "                                                                                                                                                                                                                                                                                                                                                                                                             materia  \\\n",
       "217  Designa Membros da Comissão Municipal de Seleção para os Processos Seletivos Simplificados no Exercício de 2014 O Prefeito do Município de Rodeiro, Estado de Minas Gerais, no uso de atribuições que lhe confere o Art. 67, inciso VII, da Lei Orgânica Municipal, Resolve: Art. 1º Designar os membros da Comissão Municipal de Seleção dos Processos Seletivos Simplificados no Exercício de 2014 do Muni...   \n",
       "724  EXTRATO TERMO ADITIVO PL 019/2018, PP 009/2018 TERMO ADITIVO Nº 002 Contrato Administrativo nº 044/2018, PL nº 019/2018, PP nº 009/2018. Partes: Município de Senador Modestino Gonçalves-MG e a Empresa Gerir Administração e Serviços Ltda. ME, CNPJ nº 25.774.852/0001-67. Fica prorrogado o contrato original, passando a vigorar até o dia 31/12/2019. Objeto: CONTRATAÇÃO DE EMPRESA PARA PRESTAÇÃO DE...   \n",
       "418  ATA DE REGISTRO DE PREÇOS Nº 183/2018 PROCESSO Nº: 98/2018 MODALIDADE: Pregão nº 79/2018 CONTRATANTE: MUNICIPIO DE SANTO ANTÔNIO DO MONTE CONTRATADO: Sociedade Montense de Radiofusão Ltda OBJETO: Registro de preços para futuras e eventuais contratações de empresas especializadas na prestação de serviços de inserções radiofônicas e propaganda volante, atendendo a solicitação da Assessoria de Co...   \n",
       "\n",
       "                        publicador        id  \\\n",
       "217  Frederico Pereira Paschoalino  1B8BA1EB   \n",
       "724       Arnaldo de Oliveira Neto  8162A52A   \n",
       "418         Ana Luiza Morais Silva  32E9E6E3   \n",
       "\n",
       "                                        origin  \n",
       "217                       MUNICÍPIO DE RODEIRO  \n",
       "724  PREFEITURA DE SENADOR MODESTINO GONÇALVES  \n",
       "418       PREFEITURA DE SANTO ANTÔNIO DO MONTE  "
      ]
     },
     "execution_count": 5,
     "metadata": {},
     "output_type": "execute_result"
    }
   ],
   "source": [
    "dfs = []\n",
    "directory = \"../saida_segmentacao/AMM/\"\n",
    "for filename in tqdm(list(os.listdir(directory))):\n",
    "    with open(directory + filename, \"r\") as jsonfile:\n",
    "        diario_json = jsonfile.read()\n",
    "        dfs.append(transform_json(diario_json))\n",
    "diario_df = pd.concat(dfs)\n",
    "diario_df.sample(3)"
   ]
  },
  {
   "cell_type": "code",
   "execution_count": 6,
   "id": "d0911539",
   "metadata": {},
   "outputs": [],
   "source": [
    "diario_df[\"entidades\"] = [{}] * len(diario_df)\n",
    "diario_df[\"possiveis_consultas\"] = [{}] * len(diario_df)"
   ]
  },
  {
   "cell_type": "markdown",
   "id": "1b57f3b4",
   "metadata": {},
   "source": [
    "# Extraíndo entidades"
   ]
  },
  {
   "cell_type": "code",
   "execution_count": 4,
   "id": "370f69cd",
   "metadata": {},
   "outputs": [],
   "source": [
    "os.chdir(\"../M05-dev/NER/M02/\")"
   ]
  },
  {
   "cell_type": "code",
   "execution_count": 24,
   "id": "75f6aca0",
   "metadata": {},
   "outputs": [],
   "source": [
    "def get_combinations(lists):\n",
    "    queries = []\n",
    "    combinations = list(itertools.product(*lists))\n",
    "    for comb in combinations:\n",
    "        queries.append(\" \".join(comb))\n",
    "    return queries\n",
    "\n",
    "def generate_queries(entities):\n",
    "    queries = []\n",
    "    types = {entity[\"label\"]: [] for entity in entities}    \n",
    "    for entity in entities:\n",
    "        types[entity[\"label\"]].append(entity[\"entity\"])\n",
    "    queries += get_combinations([types.get(\"PESSOA\", []), types.get(\"ORGANIZACAO\", [])])\n",
    "    queries += get_combinations([types.get(\"PESSOA\", []), types.get(\"LEGISLACAO\", [])])\n",
    "    queries += get_combinations([types.get(\"PESSOA\", []), types.get(\"LOCAL\", [])])\n",
    "    queries += get_combinations([types.get(\"PESSOA\", []), types.get(\"JURISPRUDENCIA\", [])])\n",
    "    queries += get_combinations([types.get(\"PESSOA\", []), types.get(\"LOCAL\", []), types.get(\"ORGANIZACAO\", [])])\n",
    "\n",
    "    queries = list(set(queries))\n",
    "    return queries"
   ]
  },
  {
   "cell_type": "code",
   "execution_count": 9,
   "id": "715b47a1",
   "metadata": {},
   "outputs": [
    {
     "name": "stderr",
     "output_type": "stream",
     "text": [
      "  0%|▎                                                                        | 406/100000 [19:09<58:35:44,  2.12s/it]"
     ]
    },
    {
     "name": "stdout",
     "output_type": "stream",
     "text": [
      "invalid syntax (<string>, line 1) 84\n"
     ]
    },
    {
     "name": "stderr",
     "output_type": "stream",
     "text": [
      "  0%|▎                                                                        | 463/100000 [21:46<54:18:53,  1.96s/it]"
     ]
    },
    {
     "name": "stdout",
     "output_type": "stream",
     "text": [
      "invalid syntax (<string>, line 1) 141\n"
     ]
    },
    {
     "name": "stderr",
     "output_type": "stream",
     "text": [
      "  1%|▍                                                                        | 615/100000 [28:47<77:22:58,  2.80s/it]"
     ]
    },
    {
     "name": "stdout",
     "output_type": "stream",
     "text": [
      "invalid syntax (<string>, line 1) 97\n"
     ]
    },
    {
     "name": "stderr",
     "output_type": "stream",
     "text": [
      "  1%|▌                                                                        | 692/100000 [32:14<56:21:47,  2.04s/it]"
     ]
    },
    {
     "name": "stdout",
     "output_type": "stream",
     "text": [
      "invalid syntax (<string>, line 1) 173\n"
     ]
    },
    {
     "name": "stderr",
     "output_type": "stream",
     "text": [
      "  1%|▊                                                                       | 1197/100000 [55:27<40:47:39,  1.49s/it]"
     ]
    },
    {
     "name": "stdout",
     "output_type": "stream",
     "text": [
      "invalid syntax (<string>, line 1) 41\n",
      "invalid syntax (<string>, line 1) 42\n"
     ]
    },
    {
     "name": "stderr",
     "output_type": "stream",
     "text": [
      "  1%|▉                                                                       | 1256/100000 [58:10<52:53:44,  1.93s/it]"
     ]
    },
    {
     "name": "stdout",
     "output_type": "stream",
     "text": [
      "invalid syntax (<string>, line 1) 101\n"
     ]
    },
    {
     "name": "stderr",
     "output_type": "stream",
     "text": [
      "  1%|▉                                                                     | 1356/100000 [1:02:43<53:13:51,  1.94s/it]"
     ]
    },
    {
     "name": "stdout",
     "output_type": "stream",
     "text": [
      "invalid syntax (<string>, line 1) 201\n"
     ]
    },
    {
     "name": "stderr",
     "output_type": "stream",
     "text": [
      "  2%|█                                                                     | 1565/100000 [1:12:25<76:49:28,  2.81s/it]"
     ]
    },
    {
     "name": "stdout",
     "output_type": "stream",
     "text": [
      "invalid syntax (<string>, line 1) 100\n"
     ]
    },
    {
     "name": "stderr",
     "output_type": "stream",
     "text": [
      "  2%|█▏                                                                    | 1619/100000 [1:14:52<55:00:53,  2.01s/it]"
     ]
    },
    {
     "name": "stdout",
     "output_type": "stream",
     "text": [
      "invalid syntax (<string>, line 1) 153\n"
     ]
    },
    {
     "name": "stderr",
     "output_type": "stream",
     "text": [
      "  2%|█▏                                                                    | 1756/100000 [1:21:19<78:26:38,  2.87s/it]"
     ]
    },
    {
     "name": "stdout",
     "output_type": "stream",
     "text": [
      "invalid syntax (<string>, line 1) 9\n"
     ]
    },
    {
     "name": "stderr",
     "output_type": "stream",
     "text": [
      "  2%|█▏                                                                    | 1785/100000 [1:22:36<55:33:28,  2.04s/it]"
     ]
    },
    {
     "name": "stdout",
     "output_type": "stream",
     "text": [
      "invalid syntax (<string>, line 1) 37\n"
     ]
    },
    {
     "name": "stderr",
     "output_type": "stream",
     "text": [
      "  2%|█▎                                                                    | 1788/100000 [1:22:45<73:16:30,  2.69s/it]"
     ]
    },
    {
     "name": "stdout",
     "output_type": "stream",
     "text": [
      "invalid syntax (<string>, line 206) 40\n"
     ]
    },
    {
     "name": "stderr",
     "output_type": "stream",
     "text": [
      "  2%|█▎                                                                    | 1873/100000 [1:26:46<53:46:35,  1.97s/it]"
     ]
    },
    {
     "name": "stdout",
     "output_type": "stream",
     "text": [
      "invalid syntax (<string>, line 1) 125\n"
     ]
    },
    {
     "name": "stderr",
     "output_type": "stream",
     "text": [
      "  2%|█▎                                                                    | 1951/100000 [1:30:23<83:25:53,  3.06s/it]"
     ]
    },
    {
     "name": "stdout",
     "output_type": "stream",
     "text": [
      "invalid syntax (<string>, line 44) 9\n"
     ]
    },
    {
     "name": "stderr",
     "output_type": "stream",
     "text": [
      "  2%|█▍                                                                    | 2077/100000 [1:36:07<37:44:59,  1.39s/it]"
     ]
    },
    {
     "name": "stdout",
     "output_type": "stream",
     "text": [
      "invalid syntax (<string>, line 1) 134\n",
      "invalid syntax (<string>, line 1) 135\n"
     ]
    },
    {
     "name": "stderr",
     "output_type": "stream",
     "text": [
      "\r",
      "  2%|█▍                                                                    | 2078/100000 [1:36:07<27:29:30,  1.01s/it]"
     ]
    },
    {
     "name": "stdout",
     "output_type": "stream",
     "text": [
      "invalid syntax (<string>, line 1) 136\n"
     ]
    },
    {
     "name": "stderr",
     "output_type": "stream",
     "text": [
      "  2%|█▌                                                                    | 2284/100000 [1:45:38<74:13:02,  2.73s/it]"
     ]
    },
    {
     "name": "stdout",
     "output_type": "stream",
     "text": [
      "invalid syntax (<string>, line 1) 93\n"
     ]
    },
    {
     "name": "stderr",
     "output_type": "stream",
     "text": [
      "  3%|█▉                                                                    | 2853/100000 [2:11:50<80:28:11,  2.98s/it]"
     ]
    },
    {
     "name": "stdout",
     "output_type": "stream",
     "text": [
      "invalid syntax (<string>, line 194) 141\n"
     ]
    },
    {
     "name": "stderr",
     "output_type": "stream",
     "text": [
      "  3%|██                                                                    | 3000/100000 [2:18:36<51:42:28,  1.92s/it]"
     ]
    },
    {
     "name": "stdout",
     "output_type": "stream",
     "text": [
      "invalid syntax (<string>, line 1) 73\n",
      "invalid syntax (<string>, line 1) 74\n"
     ]
    },
    {
     "name": "stderr",
     "output_type": "stream",
     "text": [
      "  3%|██▎                                                                   | 3233/100000 [2:29:17<78:02:05,  2.90s/it]"
     ]
    },
    {
     "name": "stdout",
     "output_type": "stream",
     "text": [
      "invalid syntax (<string>, line 1) 308\n"
     ]
    },
    {
     "name": "stderr",
     "output_type": "stream",
     "text": [
      "  4%|██▌                                                                   | 3744/100000 [2:52:49<39:58:40,  1.50s/it]"
     ]
    },
    {
     "name": "stdout",
     "output_type": "stream",
     "text": [
      "invalid syntax (<string>, line 1) 42\n",
      "invalid syntax (<string>, line 1) 43\n"
     ]
    },
    {
     "name": "stderr",
     "output_type": "stream",
     "text": [
      "  4%|██▋                                                                   | 3906/100000 [3:00:10<37:58:04,  1.42s/it]"
     ]
    },
    {
     "name": "stdout",
     "output_type": "stream",
     "text": [
      "invalid syntax (<string>, line 1) 204\n",
      "invalid syntax (<string>, line 1) 205\n"
     ]
    },
    {
     "name": "stderr",
     "output_type": "stream",
     "text": [
      "\r",
      "  4%|██▋                                                                   | 3907/100000 [3:00:11<27:30:21,  1.03s/it]"
     ]
    },
    {
     "name": "stdout",
     "output_type": "stream",
     "text": [
      "invalid syntax (<string>, line 1) 206\n"
     ]
    },
    {
     "name": "stderr",
     "output_type": "stream",
     "text": [
      "  4%|██▊                                                                   | 3967/100000 [3:02:58<71:55:59,  2.70s/it]"
     ]
    },
    {
     "name": "stdout",
     "output_type": "stream",
     "text": [
      "invalid syntax (<string>, line 1) 267\n"
     ]
    },
    {
     "name": "stderr",
     "output_type": "stream",
     "text": [
      "  4%|██▊                                                                   | 3993/100000 [3:04:04<51:28:02,  1.93s/it]"
     ]
    },
    {
     "name": "stdout",
     "output_type": "stream",
     "text": [
      "invalid syntax (<string>, line 1) 0\n"
     ]
    },
    {
     "name": "stderr",
     "output_type": "stream",
     "text": [
      "  5%|███▏                                                                  | 4512/100000 [3:28:06<73:17:10,  2.76s/it]"
     ]
    },
    {
     "name": "stdout",
     "output_type": "stream",
     "text": [
      "invalid syntax (<string>, line 1) 204\n"
     ]
    },
    {
     "name": "stderr",
     "output_type": "stream",
     "text": [
      "  5%|███▎                                                                  | 4692/100000 [3:36:21<73:44:51,  2.79s/it]"
     ]
    },
    {
     "name": "stdout",
     "output_type": "stream",
     "text": [
      "invalid syntax (<string>, line 1) 82\n"
     ]
    },
    {
     "name": "stderr",
     "output_type": "stream",
     "text": [
      "  5%|███▌                                                                  | 5058/100000 [3:53:05<54:10:17,  2.05s/it]"
     ]
    },
    {
     "name": "stdout",
     "output_type": "stream",
     "text": [
      "invalid syntax (<string>, line 1) 212\n"
     ]
    },
    {
     "name": "stderr",
     "output_type": "stream",
     "text": [
      "  5%|███▌                                                                  | 5089/100000 [3:54:28<51:19:34,  1.95s/it]"
     ]
    },
    {
     "name": "stdout",
     "output_type": "stream",
     "text": [
      "invalid syntax (<string>, line 1) 243\n"
     ]
    },
    {
     "name": "stderr",
     "output_type": "stream",
     "text": [
      "\r",
      "  5%|███▌                                                                  | 5090/100000 [3:54:31<58:07:18,  2.20s/it]"
     ]
    },
    {
     "name": "stdout",
     "output_type": "stream",
     "text": [
      "invalid syntax (<string>, line 1) 245\n"
     ]
    },
    {
     "name": "stderr",
     "output_type": "stream",
     "text": [
      "  5%|███▌                                                                  | 5157/100000 [3:57:33<54:05:02,  2.05s/it]"
     ]
    },
    {
     "name": "stdout",
     "output_type": "stream",
     "text": [
      "invalid syntax (<string>, line 1) 311\n"
     ]
    },
    {
     "name": "stderr",
     "output_type": "stream",
     "text": [
      "  5%|███▊                                                                  | 5472/100000 [4:12:14<52:24:48,  2.00s/it]"
     ]
    },
    {
     "name": "stdout",
     "output_type": "stream",
     "text": [
      "invalid syntax (<string>, line 1) 14\n",
      "invalid syntax (<string>, line 1) 15\n"
     ]
    },
    {
     "name": "stderr",
     "output_type": "stream",
     "text": [
      "  6%|███▊                                                                  | 5528/100000 [4:14:53<74:07:29,  2.82s/it]"
     ]
    },
    {
     "name": "stdout",
     "output_type": "stream",
     "text": [
      "invalid syntax (<string>, line 1) 71\n"
     ]
    },
    {
     "name": "stderr",
     "output_type": "stream",
     "text": [
      "\r",
      "  6%|███▊                                                                  | 5529/100000 [4:14:56<73:26:17,  2.80s/it]"
     ]
    },
    {
     "name": "stdout",
     "output_type": "stream",
     "text": [
      "invalid syntax (<string>, line 1) 72\n"
     ]
    },
    {
     "name": "stderr",
     "output_type": "stream",
     "text": [
      "  6%|███▉                                                                  | 5573/100000 [4:17:03<82:15:10,  3.14s/it]"
     ]
    },
    {
     "name": "stdout",
     "output_type": "stream",
     "text": [
      "invalid syntax (<string>, line 50) 116\n"
     ]
    },
    {
     "name": "stderr",
     "output_type": "stream",
     "text": [
      "\r",
      "  6%|███▉                                                                  | 5574/100000 [4:17:06<79:01:06,  3.01s/it]"
     ]
    },
    {
     "name": "stdout",
     "output_type": "stream",
     "text": [
      "invalid syntax (<string>, line 26) 117\n"
     ]
    },
    {
     "name": "stderr",
     "output_type": "stream",
     "text": [
      "  6%|███▉                                                                  | 5653/100000 [4:20:42<51:42:45,  1.97s/it]"
     ]
    },
    {
     "name": "stdout",
     "output_type": "stream",
     "text": [
      "invalid syntax (<string>, line 1) 195\n",
      "invalid syntax (<string>, line 1) 196\n"
     ]
    },
    {
     "name": "stderr",
     "output_type": "stream",
     "text": [
      "  6%|████                                                                  | 5891/100000 [4:31:52<53:31:59,  2.05s/it]"
     ]
    },
    {
     "name": "stdout",
     "output_type": "stream",
     "text": [
      "invalid syntax (<string>, line 1) 201\n"
     ]
    },
    {
     "name": "stderr",
     "output_type": "stream",
     "text": [
      "  6%|████▎                                                                 | 6240/100000 [4:48:03<36:33:45,  1.40s/it]"
     ]
    },
    {
     "name": "stdout",
     "output_type": "stream",
     "text": [
      "invalid syntax (<string>, line 1) 211\n",
      "invalid syntax (<string>, line 1) 212\n"
     ]
    },
    {
     "name": "stderr",
     "output_type": "stream",
     "text": [
      "  6%|████▍                                                                 | 6374/100000 [4:54:15<68:54:02,  2.65s/it]"
     ]
    },
    {
     "name": "stdout",
     "output_type": "stream",
     "text": [
      "invalid syntax (<string>, line 2) 16\n"
     ]
    },
    {
     "name": "stderr",
     "output_type": "stream",
     "text": [
      "  7%|████▌                                                                 | 6577/100000 [5:03:50<50:17:51,  1.94s/it]"
     ]
    },
    {
     "name": "stdout",
     "output_type": "stream",
     "text": [
      "invalid syntax (<string>, line 1) 218\n",
      "invalid syntax (<string>, line 1) 219\n",
      "invalid syntax (<string>, line 1) 220\n"
     ]
    },
    {
     "name": "stderr",
     "output_type": "stream",
     "text": [
      "  7%|█████                                                                 | 7175/100000 [5:32:06<36:51:10,  1.43s/it]"
     ]
    },
    {
     "name": "stdout",
     "output_type": "stream",
     "text": [
      "invalid syntax (<string>, line 1) 277\n",
      "invalid syntax (<string>, line 1) 278\n"
     ]
    },
    {
     "name": "stderr",
     "output_type": "stream",
     "text": [
      "  8%|█████▎                                                                | 7602/100000 [5:51:59<52:14:55,  2.04s/it]"
     ]
    },
    {
     "name": "stdout",
     "output_type": "stream",
     "text": [
      "invalid syntax (<string>, line 1) 108\n"
     ]
    },
    {
     "name": "stderr",
     "output_type": "stream",
     "text": [
      "  8%|█████▍                                                                | 7713/100000 [5:57:17<76:01:31,  2.97s/it]"
     ]
    },
    {
     "name": "stdout",
     "output_type": "stream",
     "text": [
      "invalid syntax (<string>, line 1) 70\n"
     ]
    },
    {
     "name": "stderr",
     "output_type": "stream",
     "text": [
      "  8%|█████▌                                                                | 7858/100000 [6:04:00<50:09:39,  1.96s/it]"
     ]
    },
    {
     "name": "stdout",
     "output_type": "stream",
     "text": [
      "invalid syntax (<string>, line 1) 213\n",
      "invalid syntax (<string>, line 1) 214\n"
     ]
    },
    {
     "name": "stderr",
     "output_type": "stream",
     "text": [
      "  9%|█████▉                                                                | 8542/100000 [6:36:16<70:53:18,  2.79s/it]"
     ]
    },
    {
     "name": "stdout",
     "output_type": "stream",
     "text": [
      "invalid syntax (<string>, line 1) 202\n"
     ]
    },
    {
     "name": "stderr",
     "output_type": "stream",
     "text": [
      "  9%|█████▉                                                                | 8553/100000 [6:36:39<35:37:51,  1.40s/it]"
     ]
    },
    {
     "name": "stdout",
     "output_type": "stream",
     "text": [
      "invalid syntax (<string>, line 1) 211\n",
      "invalid syntax (<string>, line 1) 212\n"
     ]
    },
    {
     "name": "stderr",
     "output_type": "stream",
     "text": [
      "  9%|██████                                                                | 8685/100000 [6:42:42<37:09:53,  1.47s/it]"
     ]
    },
    {
     "name": "stdout",
     "output_type": "stream",
     "text": [
      "invalid syntax (<string>, line 1) 26\n",
      "invalid syntax (<string>, line 1) 27\n"
     ]
    },
    {
     "name": "stderr",
     "output_type": "stream",
     "text": [
      "  9%|██████                                                                | 8708/100000 [6:43:47<70:39:25,  2.79s/it]"
     ]
    },
    {
     "name": "stdout",
     "output_type": "stream",
     "text": [
      "invalid syntax (<string>, line 1) 51\n"
     ]
    },
    {
     "name": "stderr",
     "output_type": "stream",
     "text": [
      "  9%|██████▏                                                               | 8866/100000 [6:51:03<50:43:58,  2.00s/it]"
     ]
    },
    {
     "name": "stdout",
     "output_type": "stream",
     "text": [
      "invalid syntax (<string>, line 1) 208\n"
     ]
    },
    {
     "name": "stderr",
     "output_type": "stream",
     "text": [
      "  9%|██████▍                                                               | 9282/100000 [7:10:31<69:06:58,  2.74s/it]"
     ]
    },
    {
     "name": "stdout",
     "output_type": "stream",
     "text": [
      "invalid syntax (<string>, line 1) 87\n"
     ]
    },
    {
     "name": "stderr",
     "output_type": "stream",
     "text": [
      "  9%|██████▌                                                               | 9435/100000 [7:17:45<59:45:49,  2.38s/it]"
     ]
    },
    {
     "name": "stdout",
     "output_type": "stream",
     "text": [
      "invalid syntax (<string>, line 1) 240\n"
     ]
    },
    {
     "name": "stderr",
     "output_type": "stream",
     "text": [
      "  9%|██████▌                                                               | 9447/100000 [7:18:20<77:59:10,  3.10s/it]"
     ]
    },
    {
     "name": "stdout",
     "output_type": "stream",
     "text": [
      "invalid syntax (<string>, line 1) 10\n"
     ]
    },
    {
     "name": "stderr",
     "output_type": "stream",
     "text": [
      "  9%|██████▌                                                               | 9452/100000 [7:18:29<49:52:28,  1.98s/it]"
     ]
    },
    {
     "name": "stdout",
     "output_type": "stream",
     "text": [
      "invalid syntax (<string>, line 1) 14\n"
     ]
    },
    {
     "name": "stderr",
     "output_type": "stream",
     "text": [
      "  9%|██████▌                                                               | 9457/100000 [7:18:43<53:35:24,  2.13s/it]"
     ]
    },
    {
     "name": "stdout",
     "output_type": "stream",
     "text": [
      "invalid syntax (<string>, line 1) 19\n"
     ]
    },
    {
     "name": "stderr",
     "output_type": "stream",
     "text": [
      " 10%|██████▉                                                               | 9913/100000 [7:39:56<67:59:10,  2.72s/it]"
     ]
    },
    {
     "name": "stdout",
     "output_type": "stream",
     "text": [
      "invalid syntax (<string>, line 1) 207\n"
     ]
    },
    {
     "name": "stderr",
     "output_type": "stream",
     "text": [
      " 10%|██████▉                                                              | 10042/100000 [7:45:56<72:00:09,  2.88s/it]"
     ]
    },
    {
     "name": "stdout",
     "output_type": "stream",
     "text": [
      "invalid syntax (<string>, line 2) 7\n"
     ]
    },
    {
     "name": "stderr",
     "output_type": "stream",
     "text": [
      " 10%|██████▉                                                              | 10113/100000 [7:49:13<49:14:56,  1.97s/it]"
     ]
    },
    {
     "name": "stdout",
     "output_type": "stream",
     "text": [
      "invalid syntax (<string>, line 1) 78\n"
     ]
    },
    {
     "name": "stderr",
     "output_type": "stream",
     "text": [
      " 11%|███████▍                                                             | 10697/100000 [8:16:29<67:43:40,  2.73s/it]"
     ]
    },
    {
     "name": "stdout",
     "output_type": "stream",
     "text": [
      "invalid syntax (<string>, line 1) 270\n"
     ]
    },
    {
     "name": "stderr",
     "output_type": "stream",
     "text": [
      " 11%|███████▊                                                             | 11272/100000 [8:43:22<66:31:19,  2.70s/it]"
     ]
    },
    {
     "name": "stdout",
     "output_type": "stream",
     "text": [
      "invalid syntax (<string>, line 1) 240\n"
     ]
    },
    {
     "name": "stderr",
     "output_type": "stream",
     "text": [
      " 11%|███████▊                                                             | 11401/100000 [8:49:19<68:27:02,  2.78s/it]"
     ]
    },
    {
     "name": "stdout",
     "output_type": "stream",
     "text": [
      "invalid syntax (<string>, line 1) 83\n"
     ]
    },
    {
     "name": "stderr",
     "output_type": "stream",
     "text": [
      " 12%|████████▎                                                            | 11982/100000 [9:16:37<68:30:57,  2.80s/it]"
     ]
    },
    {
     "name": "stdout",
     "output_type": "stream",
     "text": [
      "invalid syntax (<string>, line 1) 314\n"
     ]
    },
    {
     "name": "stderr",
     "output_type": "stream",
     "text": [
      " 12%|████████▎                                                            | 12074/100000 [9:20:58<51:26:58,  2.11s/it]"
     ]
    },
    {
     "name": "stdout",
     "output_type": "stream",
     "text": [
      "invalid syntax (<string>, line 1) 90\n"
     ]
    },
    {
     "name": "stderr",
     "output_type": "stream",
     "text": [
      " 12%|████████▍                                                            | 12200/100000 [9:26:53<49:09:28,  2.02s/it]"
     ]
    },
    {
     "name": "stdout",
     "output_type": "stream",
     "text": [
      "invalid syntax (<string>, line 1) 216\n"
     ]
    },
    {
     "name": "stderr",
     "output_type": "stream",
     "text": [
      " 12%|████████▌                                                            | 12441/100000 [9:38:17<48:34:33,  2.00s/it]"
     ]
    },
    {
     "name": "stdout",
     "output_type": "stream",
     "text": [
      "invalid syntax (<string>, line 1) 140\n"
     ]
    },
    {
     "name": "stderr",
     "output_type": "stream",
     "text": [
      " 13%|████████▋                                                            | 12559/100000 [9:43:47<68:31:29,  2.82s/it]"
     ]
    },
    {
     "name": "stdout",
     "output_type": "stream",
     "text": [
      "invalid syntax (<string>, line 1) 259\n"
     ]
    },
    {
     "name": "stderr",
     "output_type": "stream",
     "text": [
      " 13%|████████▊                                                            | 12729/100000 [9:51:45<74:03:26,  3.05s/it]"
     ]
    },
    {
     "name": "stdout",
     "output_type": "stream",
     "text": [
      "invalid syntax (<string>, line 1) 39\n"
     ]
    },
    {
     "name": "stderr",
     "output_type": "stream",
     "text": [
      " 13%|████████▊                                                            | 12787/100000 [9:54:26<67:34:22,  2.79s/it]\n"
     ]
    },
    {
     "ename": "KeyboardInterrupt",
     "evalue": "",
     "output_type": "error",
     "traceback": [
      "\u001b[0;31m---------------------------------------------------------------------------\u001b[0m",
      "\u001b[0;31mKeyboardInterrupt\u001b[0m                         Traceback (most recent call last)",
      "\u001b[0;32m/tmp/ipykernel_216394/3911314664.py\u001b[0m in \u001b[0;36m<module>\u001b[0;34m\u001b[0m\n\u001b[1;32m      6\u001b[0m     \u001b[0;32mtry\u001b[0m\u001b[0;34m:\u001b[0m\u001b[0;34m\u001b[0m\u001b[0;34m\u001b[0m\u001b[0m\n\u001b[1;32m      7\u001b[0m         \u001b[0mtext\u001b[0m \u001b[0;34m=\u001b[0m \u001b[0mrow\u001b[0m\u001b[0;34m[\u001b[0m\u001b[0;34m\"materia\"\u001b[0m\u001b[0;34m]\u001b[0m\u001b[0;34m.\u001b[0m\u001b[0mreplace\u001b[0m\u001b[0;34m(\u001b[0m\u001b[0;34m\"\\n\"\u001b[0m\u001b[0;34m,\u001b[0m \u001b[0;34m\"\"\u001b[0m\u001b[0;34m)\u001b[0m\u001b[0;34m\u001b[0m\u001b[0;34m\u001b[0m\u001b[0m\n\u001b[0;32m----> 8\u001b[0;31m         \u001b[0moutput\u001b[0m \u001b[0;34m=\u001b[0m \u001b[0msubprocess\u001b[0m\u001b[0;34m.\u001b[0m\u001b[0mgetstatusoutput\u001b[0m\u001b[0;34m(\u001b[0m\u001b[0;34mf'java -cp mp-ufmg-ner.jar:lib/* Pipeline -str \"{text}\"'\u001b[0m\u001b[0;34m)\u001b[0m\u001b[0;34m\u001b[0m\u001b[0;34m\u001b[0m\u001b[0m\n\u001b[0m\u001b[1;32m      9\u001b[0m         \u001b[0moutput\u001b[0m \u001b[0;34m=\u001b[0m \u001b[0meval\u001b[0m\u001b[0;34m(\u001b[0m\u001b[0moutput\u001b[0m\u001b[0;34m[\u001b[0m\u001b[0;36m1\u001b[0m\u001b[0;34m]\u001b[0m\u001b[0;34m[\u001b[0m\u001b[0;36m69\u001b[0m\u001b[0;34m:\u001b[0m\u001b[0;34m]\u001b[0m\u001b[0;34m)\u001b[0m\u001b[0;34m\u001b[0m\u001b[0;34m\u001b[0m\u001b[0m\n\u001b[1;32m     10\u001b[0m         \u001b[0mdiario_df_entidades\u001b[0m\u001b[0;34m.\u001b[0m\u001b[0miloc\u001b[0m\u001b[0;34m[\u001b[0m\u001b[0midx\u001b[0m\u001b[0;34m]\u001b[0m\u001b[0;34m[\u001b[0m\u001b[0;34m\"entidades\"\u001b[0m\u001b[0;34m]\u001b[0m \u001b[0;34m=\u001b[0m \u001b[0moutput\u001b[0m\u001b[0;34m[\u001b[0m\u001b[0;34m\"entities\"\u001b[0m\u001b[0;34m]\u001b[0m\u001b[0;34m\u001b[0m\u001b[0;34m\u001b[0m\u001b[0m\n",
      "\u001b[0;32m~/miniconda3/envs/search/lib/python3.8/subprocess.py\u001b[0m in \u001b[0;36mgetstatusoutput\u001b[0;34m(cmd)\u001b[0m\n\u001b[1;32m    610\u001b[0m     \"\"\"\n\u001b[1;32m    611\u001b[0m     \u001b[0;32mtry\u001b[0m\u001b[0;34m:\u001b[0m\u001b[0;34m\u001b[0m\u001b[0;34m\u001b[0m\u001b[0m\n\u001b[0;32m--> 612\u001b[0;31m         \u001b[0mdata\u001b[0m \u001b[0;34m=\u001b[0m \u001b[0mcheck_output\u001b[0m\u001b[0;34m(\u001b[0m\u001b[0mcmd\u001b[0m\u001b[0;34m,\u001b[0m \u001b[0mshell\u001b[0m\u001b[0;34m=\u001b[0m\u001b[0;32mTrue\u001b[0m\u001b[0;34m,\u001b[0m \u001b[0mtext\u001b[0m\u001b[0;34m=\u001b[0m\u001b[0;32mTrue\u001b[0m\u001b[0;34m,\u001b[0m \u001b[0mstderr\u001b[0m\u001b[0;34m=\u001b[0m\u001b[0mSTDOUT\u001b[0m\u001b[0;34m)\u001b[0m\u001b[0;34m\u001b[0m\u001b[0;34m\u001b[0m\u001b[0m\n\u001b[0m\u001b[1;32m    613\u001b[0m         \u001b[0mexitcode\u001b[0m \u001b[0;34m=\u001b[0m \u001b[0;36m0\u001b[0m\u001b[0;34m\u001b[0m\u001b[0;34m\u001b[0m\u001b[0m\n\u001b[1;32m    614\u001b[0m     \u001b[0;32mexcept\u001b[0m \u001b[0mCalledProcessError\u001b[0m \u001b[0;32mas\u001b[0m \u001b[0mex\u001b[0m\u001b[0;34m:\u001b[0m\u001b[0;34m\u001b[0m\u001b[0;34m\u001b[0m\u001b[0m\n",
      "\u001b[0;32m~/miniconda3/envs/search/lib/python3.8/subprocess.py\u001b[0m in \u001b[0;36mcheck_output\u001b[0;34m(timeout, *popenargs, **kwargs)\u001b[0m\n\u001b[1;32m    409\u001b[0m         \u001b[0mkwargs\u001b[0m\u001b[0;34m[\u001b[0m\u001b[0;34m'input'\u001b[0m\u001b[0;34m]\u001b[0m \u001b[0;34m=\u001b[0m \u001b[0;34m''\u001b[0m \u001b[0;32mif\u001b[0m \u001b[0mkwargs\u001b[0m\u001b[0;34m.\u001b[0m\u001b[0mget\u001b[0m\u001b[0;34m(\u001b[0m\u001b[0;34m'universal_newlines'\u001b[0m\u001b[0;34m,\u001b[0m \u001b[0;32mFalse\u001b[0m\u001b[0;34m)\u001b[0m \u001b[0;32melse\u001b[0m \u001b[0;34mb''\u001b[0m\u001b[0;34m\u001b[0m\u001b[0;34m\u001b[0m\u001b[0m\n\u001b[1;32m    410\u001b[0m \u001b[0;34m\u001b[0m\u001b[0m\n\u001b[0;32m--> 411\u001b[0;31m     return run(*popenargs, stdout=PIPE, timeout=timeout, check=True,\n\u001b[0m\u001b[1;32m    412\u001b[0m                **kwargs).stdout\n\u001b[1;32m    413\u001b[0m \u001b[0;34m\u001b[0m\u001b[0m\n",
      "\u001b[0;32m~/miniconda3/envs/search/lib/python3.8/subprocess.py\u001b[0m in \u001b[0;36mrun\u001b[0;34m(input, capture_output, timeout, check, *popenargs, **kwargs)\u001b[0m\n\u001b[1;32m    489\u001b[0m     \u001b[0;32mwith\u001b[0m \u001b[0mPopen\u001b[0m\u001b[0;34m(\u001b[0m\u001b[0;34m*\u001b[0m\u001b[0mpopenargs\u001b[0m\u001b[0;34m,\u001b[0m \u001b[0;34m**\u001b[0m\u001b[0mkwargs\u001b[0m\u001b[0;34m)\u001b[0m \u001b[0;32mas\u001b[0m \u001b[0mprocess\u001b[0m\u001b[0;34m:\u001b[0m\u001b[0;34m\u001b[0m\u001b[0;34m\u001b[0m\u001b[0m\n\u001b[1;32m    490\u001b[0m         \u001b[0;32mtry\u001b[0m\u001b[0;34m:\u001b[0m\u001b[0;34m\u001b[0m\u001b[0;34m\u001b[0m\u001b[0m\n\u001b[0;32m--> 491\u001b[0;31m             \u001b[0mstdout\u001b[0m\u001b[0;34m,\u001b[0m \u001b[0mstderr\u001b[0m \u001b[0;34m=\u001b[0m \u001b[0mprocess\u001b[0m\u001b[0;34m.\u001b[0m\u001b[0mcommunicate\u001b[0m\u001b[0;34m(\u001b[0m\u001b[0minput\u001b[0m\u001b[0;34m,\u001b[0m \u001b[0mtimeout\u001b[0m\u001b[0;34m=\u001b[0m\u001b[0mtimeout\u001b[0m\u001b[0;34m)\u001b[0m\u001b[0;34m\u001b[0m\u001b[0;34m\u001b[0m\u001b[0m\n\u001b[0m\u001b[1;32m    492\u001b[0m         \u001b[0;32mexcept\u001b[0m \u001b[0mTimeoutExpired\u001b[0m \u001b[0;32mas\u001b[0m \u001b[0mexc\u001b[0m\u001b[0;34m:\u001b[0m\u001b[0;34m\u001b[0m\u001b[0;34m\u001b[0m\u001b[0m\n\u001b[1;32m    493\u001b[0m             \u001b[0mprocess\u001b[0m\u001b[0;34m.\u001b[0m\u001b[0mkill\u001b[0m\u001b[0;34m(\u001b[0m\u001b[0;34m)\u001b[0m\u001b[0;34m\u001b[0m\u001b[0;34m\u001b[0m\u001b[0m\n",
      "\u001b[0;32m~/miniconda3/envs/search/lib/python3.8/subprocess.py\u001b[0m in \u001b[0;36mcommunicate\u001b[0;34m(self, input, timeout)\u001b[0m\n\u001b[1;32m   1009\u001b[0m                 \u001b[0mself\u001b[0m\u001b[0;34m.\u001b[0m\u001b[0m_stdin_write\u001b[0m\u001b[0;34m(\u001b[0m\u001b[0minput\u001b[0m\u001b[0;34m)\u001b[0m\u001b[0;34m\u001b[0m\u001b[0;34m\u001b[0m\u001b[0m\n\u001b[1;32m   1010\u001b[0m             \u001b[0;32melif\u001b[0m \u001b[0mself\u001b[0m\u001b[0;34m.\u001b[0m\u001b[0mstdout\u001b[0m\u001b[0;34m:\u001b[0m\u001b[0;34m\u001b[0m\u001b[0;34m\u001b[0m\u001b[0m\n\u001b[0;32m-> 1011\u001b[0;31m                 \u001b[0mstdout\u001b[0m \u001b[0;34m=\u001b[0m \u001b[0mself\u001b[0m\u001b[0;34m.\u001b[0m\u001b[0mstdout\u001b[0m\u001b[0;34m.\u001b[0m\u001b[0mread\u001b[0m\u001b[0;34m(\u001b[0m\u001b[0;34m)\u001b[0m\u001b[0;34m\u001b[0m\u001b[0;34m\u001b[0m\u001b[0m\n\u001b[0m\u001b[1;32m   1012\u001b[0m                 \u001b[0mself\u001b[0m\u001b[0;34m.\u001b[0m\u001b[0mstdout\u001b[0m\u001b[0;34m.\u001b[0m\u001b[0mclose\u001b[0m\u001b[0;34m(\u001b[0m\u001b[0;34m)\u001b[0m\u001b[0;34m\u001b[0m\u001b[0;34m\u001b[0m\u001b[0m\n\u001b[1;32m   1013\u001b[0m             \u001b[0;32melif\u001b[0m \u001b[0mself\u001b[0m\u001b[0;34m.\u001b[0m\u001b[0mstderr\u001b[0m\u001b[0;34m:\u001b[0m\u001b[0;34m\u001b[0m\u001b[0;34m\u001b[0m\u001b[0m\n",
      "\u001b[0;31mKeyboardInterrupt\u001b[0m: "
     ]
    }
   ],
   "source": [
    "\n",
    "os.environ[\"TOKENIZERS_PARALLELISM\"] = \"false\"\n",
    "\n",
    "SAMPLE_SIZE = 100000\n",
    "diario_df_entidades = diario_df.sample(SAMPLE_SIZE).copy(deep=True).reset_index(drop=True)\n",
    "for idx, row in tqdm(diario_df.iterrows(), total=SAMPLE_SIZE):\n",
    "    try:\n",
    "        text = row[\"materia\"].replace(\"\\n\", \"\")\n",
    "        output = subprocess.getstatusoutput(f'java -cp mp-ufmg-ner.jar:lib/* Pipeline -str \"{text}\"')\n",
    "        output = eval(output[1][69:]) \n",
    "        diario_df_entidades.iloc[idx][\"entidades\"] = output[\"entities\"]\n",
    "        diario_df_entidades.iloc[idx][\"possiveis_consultas\"] = generate_queries(output[\"entities\"])\n",
    "    except Exception as e:\n",
    "        print(e, idx)\n",
    "        continue"
   ]
  },
  {
   "cell_type": "code",
   "execution_count": 27,
   "id": "e4ba72d9",
   "metadata": {
    "scrolled": true
   },
   "outputs": [
    {
     "name": "stdout",
     "output_type": "stream",
     "text": [
      "519\n"
     ]
    },
    {
     "data": {
      "text/html": [
       "<div>\n",
       "<style scoped>\n",
       "    .dataframe tbody tr th:only-of-type {\n",
       "        vertical-align: middle;\n",
       "    }\n",
       "\n",
       "    .dataframe tbody tr th {\n",
       "        vertical-align: top;\n",
       "    }\n",
       "\n",
       "    .dataframe thead th {\n",
       "        text-align: right;\n",
       "    }\n",
       "</style>\n",
       "<table border=\"1\" class=\"dataframe\">\n",
       "  <thead>\n",
       "    <tr style=\"text-align: right;\">\n",
       "      <th></th>\n",
       "      <th>titulo</th>\n",
       "      <th>subtitulo</th>\n",
       "      <th>materia</th>\n",
       "      <th>publicador</th>\n",
       "      <th>id</th>\n",
       "      <th>origin</th>\n",
       "      <th>entidades</th>\n",
       "      <th>possiveis_consultas</th>\n",
       "    </tr>\n",
       "  </thead>\n",
       "  <tbody>\n",
       "    <tr>\n",
       "      <th>0</th>\n",
       "      <td>LICITAÇÕES E COMPRAS</td>\n",
       "      <td>EXTRATO DE LICITAÇÃO PREGÃO ELETRONICO 135/2017 Processo 0314/2017 - Pregão Eletrônico 0135/2017 – Objeto Aquisição de materiais de avaliação física para atender à Secretaria de Esporte e Lazer. Contratação EXCLUSIVAMENTE para Microempresa - ME ou Empresa de Pequeno Porte - EPP. Credenciamento: até as 12h do dia 23/10/2017. Apresentação das propostas: até as 13h do dia 23/10/2017. Início dos l...</td>\n",
       "      <td></td>\n",
       "      <td>Adalberto da Silva Nogueira</td>\n",
       "      <td>75D060C0</td>\n",
       "      <td>PREFEITURA DE SÃO LOURENÇO</td>\n",
       "      <td>[{'start': 0, 'end': 24, 'label': 'JURISPRUDENCIA', 'entity': 'PAL 005/2016 PP 003/2016'}, {'start': 242, 'end': 250, 'label': 'TEMPO', 'entity': '003/2016'}, {'start': 870, 'end': 874, 'label': 'TEMPO', 'entity': '2016'}, {'start': 913, 'end': 923, 'label': 'TEMPO', 'entity': '21/06/2016'}, {'start': 971, 'end': 985, 'label': 'LOCAL', 'entity': 'Rua Zeca Bruno'}, {'start': 1013, 'end': 1023, ...</td>\n",
       "      <td>[]</td>\n",
       "    </tr>\n",
       "    <tr>\n",
       "      <th>1</th>\n",
       "      <td>DEPARTAMENTO DE LICITAÇÕES</td>\n",
       "      <td></td>\n",
       "      <td>ABERTURA DO PREGÃO PRESENCIAL 58/16 Torna público a abertura do Pregão Presencial 58/16 no dia 07/11/16 às 09h30min, com credenciamento a partir das 09h. Objeto: contratação de empresa para execução de rede óptica subterrânea para interligação da escola municipal da Nilza Vieira à escola municipal de Lapinha e USF Lapinha com fornecimento de materiais. O edital na íntegra estará disponível na ...</td>\n",
       "      <td>André Luiz Fernandes</td>\n",
       "      <td>CA603261</td>\n",
       "      <td>PREFEITURA MUNICIPAL DE LAGOA SANTA</td>\n",
       "      <td>[{'start': 50, 'end': 58, 'label': 'TEMPO', 'entity': '002/2016'}, {'start': 94, 'end': 102, 'label': 'TEMPO', 'entity': '002/2016'}, {'start': 161, 'end': 164, 'label': 'ORGANIZACAO', 'entity': 'CPL'}, {'start': 658, 'end': 690, 'label': 'ORGANIZACAO', 'entity': 'Associação Mineira de Municípios'}, {'start': 702, 'end': 718, 'label': 'PESSOA', 'entity': 'Diretoria Biênio'}, {'start': 719, 'en...</td>\n",
       "      <td>[ADRIANO JOSÉ SENADOR Associação Mineira de Municípios, ADRIANO JOSÉ SENADOR Caxambu Associação dos Municípios da Microrregião do Circuito, Teófilo Faustino Miranda Torres Duarte Minas Gerais CPL, Avenida Camilo Soares Caxambu, Geraldo Magela Barbosa 2º Tesoureiro Caxambu Associação Mineira de Municípios, ADRIANO JOSÉ SENADOR Associação dos Municípios da Microrregião do Circuito, Teófilo Faust...</td>\n",
       "    </tr>\n",
       "    <tr>\n",
       "      <th>2</th>\n",
       "      <td>FUNDO MUNICIPAL DE SAÚDE DE CABECEIRA GRANDE</td>\n",
       "      <td>EXTRATO DA ATA DE REGISTRO DE PREÇO N.º 021/2020</td>\n",
       "      <td>PROCESSO ADMINISTRATIVO LICITATÓRIO N.º 021/2020 PREGÃO PRESENCIAL – SRP N.º 020/2020 CONTRATADA: EQUIPAR MEDICO E HOSPITALAR LTDA – CNPJ: 25.725.813/0001-70 CONTRATANTE: Prefeitura Municipal De Cabeceira Grande CNPJ: 01.603.707/0001-55 Valor da Ata: R$ 49.944,00 (Quarenta e nove mil, novecentos e quarenta e quatro reais). Objeto: Formação de registro de preços para aquisição medicamentos rema...</td>\n",
       "      <td>Juliana Costa de Oliveira</td>\n",
       "      <td>9570AF41</td>\n",
       "      <td>PREFEITURA DE CABECEIRA GRANDE</td>\n",
       "      <td>[{'start': 81, 'end': 99, 'label': 'TEMPO', 'entity': '30 DE MAIO DE 2016'}, {'start': 139, 'end': 156, 'label': 'ORGANIZACAO', 'entity': 'Consórcio Público'}, {'start': 203, 'end': 248, 'label': 'ORGANIZACAO', 'entity': 'Emergência da Macrorregião do Triângulo Norte'}, {'start': 278, 'end': 282, 'label': 'TEMPO', 'entity': '2015'}, {'start': 300, 'end': 353, 'label': 'LEGISLACAO', 'entity': '...</td>\n",
       "      <td>[LORENA CÂNDIDA VIEIRA BORGES CRC Emergência da Macrorregião do Triângulo Norte, LORENA CÂNDIDA VIEIRA BORGES CRC Portaria n. 72/2012 da Secretaria do Tesouro Nacional, GILMAR ALVES MACHADO Consórcio Público, GILMAR ALVES MACHADO Portaria n. 72/2012 da Secretaria do Tesouro Nacional, LORENA CÂNDIDA VIEIRA BORGES CRC Tesouro Nacional, GILMAR ALVES MACHADO art.s 17 e 28 do Contrato do Consórcio ...</td>\n",
       "    </tr>\n",
       "    <tr>\n",
       "      <th>3</th>\n",
       "      <td>LICITAÇÕES E COMPRAS</td>\n",
       "      <td>EXTRATO DE LICITAÇÃO PREGÃO ELETRONICO 038/2018 Processo 0104/2018 - Pregão Eletrônico 0038/2018 – Objeto Contratação de empresa especializada para planejamento, desenvolvimento, organização, contratação, supervisão, coordenação e execução dos trabalhos do evento \"VI Copa de Marcha do Cavalo Mangalarga Marchador, Exposição de Mini-Animais e Cordão de Ouro - Etapa Classificatória para exposição...</td>\n",
       "      <td></td>\n",
       "      <td>Adalberto da Silva Nogueira</td>\n",
       "      <td>52DDA34B</td>\n",
       "      <td>PREFEITURA DE SÃO LOURENÇO</td>\n",
       "      <td>[{'start': 65, 'end': 72, 'label': 'TEMPO', 'entity': '33/2016'}, {'start': 94, 'end': 101, 'label': 'TEMPO', 'entity': '23/2016'}, {'start': 303, 'end': 310, 'label': 'TEMPO', 'entity': '23/2016'}, {'start': 377, 'end': 396, 'label': 'TEMPO', 'entity': '13 de junho de 2016'}, {'start': 443, 'end': 477, 'label': 'PESSOA', 'entity': 'Antônio Thomaz Ferreira de Rezende'}, {'start': 490, 'end': 5...</td>\n",
       "      <td>[GILMAR ALVES MACHADO MG CEP, Antônio Thomaz Ferreira de Rezende MG CEP, Distrito Industrial Uberlândia MG CEP]</td>\n",
       "    </tr>\n",
       "    <tr>\n",
       "      <th>4</th>\n",
       "      <td>SECRETARIA DE ADMINISTRAÇÃO</td>\n",
       "      <td></td>\n",
       "      <td>EXTRATO DE CONTRATO PREFEITURA DE POUSO ALEGRE/MG – PRORROGAÇÃO DO CONTRATO Nº 80/13 – Decorrência: Tomada de Preço nº 06/13 – Objeto: “Contratação de empresa para realização de obras de mirante em torno do monumento turístico Cristo Redentor” - Contratada: Construtora Camargo e Ribeiro Ltda. O contrato obriga-se a continuar por mais 90 dias, com término previsto para 27 de dezembro de 2015. D...</td>\n",
       "      <td>Marcelo Abolafio Lopez</td>\n",
       "      <td>946BDEC2</td>\n",
       "      <td>PREFEITURA DE POUSO ALEGRE</td>\n",
       "      <td>[{'start': 205, 'end': 209, 'label': 'TEMPO', 'entity': '2016'}, {'start': 485, 'end': 499, 'label': 'PESSOA', 'entity': 'GILMAR MACHADO'}, {'start': 531, 'end': 551, 'label': 'PESSOA', 'entity': 'SECRETÁRIA EXECUTIVA'}, {'start': 602, 'end': 616, 'label': 'PESSOA', 'entity': 'GILMAR MACHADO'}, {'start': 785, 'end': 789, 'label': 'TEMPO', 'entity': '2015'}, {'start': 955, 'end': 959, 'label': ...</td>\n",
       "      <td>[SECRETÁRIA EXECUTIVA ASSEMBLEIA GERAL DO CISTRI, GILMAR ALVES MACHADO MINISTÉRIO PÚBLICO, GILMAR ALVES MACHADO ASSEMBLEIA GERAL DO CISTRI, CISTRI DAYANA FERREIRA DA FONSECA MINISTÉRIO PÚBLICO, GILMAR MACHADO MINISTÉRIO PÚBLICO, GILMAR MACHADO ASSEMBLEIA GERAL DO CISTRI, DAYANA FONSECA ASSEMBLEIA GERAL DO CISTRI, SECRETÁRIA EXECUTIVA MINISTÉRIO PÚBLICO, DAYANA FONSECA COLOCA MINISTÉRIO PÚBLICO...</td>\n",
       "    </tr>\n",
       "  </tbody>\n",
       "</table>\n",
       "</div>"
      ],
      "text/plain": [
       "                                         titulo  \\\n",
       "0                          LICITAÇÕES E COMPRAS   \n",
       "1                    DEPARTAMENTO DE LICITAÇÕES   \n",
       "2  FUNDO MUNICIPAL DE SAÚDE DE CABECEIRA GRANDE   \n",
       "3                          LICITAÇÕES E COMPRAS   \n",
       "4                   SECRETARIA DE ADMINISTRAÇÃO   \n",
       "\n",
       "                                                                                                                                                                                                                                                                                                                                                                                                         subtitulo  \\\n",
       "0  EXTRATO DE LICITAÇÃO PREGÃO ELETRONICO 135/2017 Processo 0314/2017 - Pregão Eletrônico 0135/2017 – Objeto Aquisição de materiais de avaliação física para atender à Secretaria de Esporte e Lazer. Contratação EXCLUSIVAMENTE para Microempresa - ME ou Empresa de Pequeno Porte - EPP. Credenciamento: até as 12h do dia 23/10/2017. Apresentação das propostas: até as 13h do dia 23/10/2017. Início dos l...   \n",
       "1                                                                                                                                                                                                                                                                                                                                                                                                                    \n",
       "2                                                                                                                                                                                                                                                                                                                                                                 EXTRATO DA ATA DE REGISTRO DE PREÇO N.º 021/2020   \n",
       "3  EXTRATO DE LICITAÇÃO PREGÃO ELETRONICO 038/2018 Processo 0104/2018 - Pregão Eletrônico 0038/2018 – Objeto Contratação de empresa especializada para planejamento, desenvolvimento, organização, contratação, supervisão, coordenação e execução dos trabalhos do evento \"VI Copa de Marcha do Cavalo Mangalarga Marchador, Exposição de Mini-Animais e Cordão de Ouro - Etapa Classificatória para exposição...   \n",
       "4                                                                                                                                                                                                                                                                                                                                                                                                                    \n",
       "\n",
       "                                                                                                                                                                                                                                                                                                                                                                                                           materia  \\\n",
       "0                                                                                                                                                                                                                                                                                                                                                                                                                    \n",
       "1  ABERTURA DO PREGÃO PRESENCIAL 58/16 Torna público a abertura do Pregão Presencial 58/16 no dia 07/11/16 às 09h30min, com credenciamento a partir das 09h. Objeto: contratação de empresa para execução de rede óptica subterrânea para interligação da escola municipal da Nilza Vieira à escola municipal de Lapinha e USF Lapinha com fornecimento de materiais. O edital na íntegra estará disponível na ...   \n",
       "2  PROCESSO ADMINISTRATIVO LICITATÓRIO N.º 021/2020 PREGÃO PRESENCIAL – SRP N.º 020/2020 CONTRATADA: EQUIPAR MEDICO E HOSPITALAR LTDA – CNPJ: 25.725.813/0001-70 CONTRATANTE: Prefeitura Municipal De Cabeceira Grande CNPJ: 01.603.707/0001-55 Valor da Ata: R$ 49.944,00 (Quarenta e nove mil, novecentos e quarenta e quatro reais). Objeto: Formação de registro de preços para aquisição medicamentos rema...   \n",
       "3                                                                                                                                                                                                                                                                                                                                                                                                                    \n",
       "4  EXTRATO DE CONTRATO PREFEITURA DE POUSO ALEGRE/MG – PRORROGAÇÃO DO CONTRATO Nº 80/13 – Decorrência: Tomada de Preço nº 06/13 – Objeto: “Contratação de empresa para realização de obras de mirante em torno do monumento turístico Cristo Redentor” - Contratada: Construtora Camargo e Ribeiro Ltda. O contrato obriga-se a continuar por mais 90 dias, com término previsto para 27 de dezembro de 2015. D...   \n",
       "\n",
       "                    publicador        id                               origin  \\\n",
       "0  Adalberto da Silva Nogueira  75D060C0           PREFEITURA DE SÃO LOURENÇO   \n",
       "1         André Luiz Fernandes  CA603261  PREFEITURA MUNICIPAL DE LAGOA SANTA   \n",
       "2    Juliana Costa de Oliveira  9570AF41       PREFEITURA DE CABECEIRA GRANDE   \n",
       "3  Adalberto da Silva Nogueira  52DDA34B           PREFEITURA DE SÃO LOURENÇO   \n",
       "4       Marcelo Abolafio Lopez  946BDEC2           PREFEITURA DE POUSO ALEGRE   \n",
       "\n",
       "                                                                                                                                                                                                                                                                                                                                                                                                         entidades  \\\n",
       "0  [{'start': 0, 'end': 24, 'label': 'JURISPRUDENCIA', 'entity': 'PAL 005/2016 PP 003/2016'}, {'start': 242, 'end': 250, 'label': 'TEMPO', 'entity': '003/2016'}, {'start': 870, 'end': 874, 'label': 'TEMPO', 'entity': '2016'}, {'start': 913, 'end': 923, 'label': 'TEMPO', 'entity': '21/06/2016'}, {'start': 971, 'end': 985, 'label': 'LOCAL', 'entity': 'Rua Zeca Bruno'}, {'start': 1013, 'end': 1023, ...   \n",
       "1  [{'start': 50, 'end': 58, 'label': 'TEMPO', 'entity': '002/2016'}, {'start': 94, 'end': 102, 'label': 'TEMPO', 'entity': '002/2016'}, {'start': 161, 'end': 164, 'label': 'ORGANIZACAO', 'entity': 'CPL'}, {'start': 658, 'end': 690, 'label': 'ORGANIZACAO', 'entity': 'Associação Mineira de Municípios'}, {'start': 702, 'end': 718, 'label': 'PESSOA', 'entity': 'Diretoria Biênio'}, {'start': 719, 'en...   \n",
       "2  [{'start': 81, 'end': 99, 'label': 'TEMPO', 'entity': '30 DE MAIO DE 2016'}, {'start': 139, 'end': 156, 'label': 'ORGANIZACAO', 'entity': 'Consórcio Público'}, {'start': 203, 'end': 248, 'label': 'ORGANIZACAO', 'entity': 'Emergência da Macrorregião do Triângulo Norte'}, {'start': 278, 'end': 282, 'label': 'TEMPO', 'entity': '2015'}, {'start': 300, 'end': 353, 'label': 'LEGISLACAO', 'entity': '...   \n",
       "3  [{'start': 65, 'end': 72, 'label': 'TEMPO', 'entity': '33/2016'}, {'start': 94, 'end': 101, 'label': 'TEMPO', 'entity': '23/2016'}, {'start': 303, 'end': 310, 'label': 'TEMPO', 'entity': '23/2016'}, {'start': 377, 'end': 396, 'label': 'TEMPO', 'entity': '13 de junho de 2016'}, {'start': 443, 'end': 477, 'label': 'PESSOA', 'entity': 'Antônio Thomaz Ferreira de Rezende'}, {'start': 490, 'end': 5...   \n",
       "4  [{'start': 205, 'end': 209, 'label': 'TEMPO', 'entity': '2016'}, {'start': 485, 'end': 499, 'label': 'PESSOA', 'entity': 'GILMAR MACHADO'}, {'start': 531, 'end': 551, 'label': 'PESSOA', 'entity': 'SECRETÁRIA EXECUTIVA'}, {'start': 602, 'end': 616, 'label': 'PESSOA', 'entity': 'GILMAR MACHADO'}, {'start': 785, 'end': 789, 'label': 'TEMPO', 'entity': '2015'}, {'start': 955, 'end': 959, 'label': ...   \n",
       "\n",
       "                                                                                                                                                                                                                                                                                                                                                                                               possiveis_consultas  \n",
       "0                                                                                                                                                                                                                                                                                                                                                                                                               []  \n",
       "1  [ADRIANO JOSÉ SENADOR Associação Mineira de Municípios, ADRIANO JOSÉ SENADOR Caxambu Associação dos Municípios da Microrregião do Circuito, Teófilo Faustino Miranda Torres Duarte Minas Gerais CPL, Avenida Camilo Soares Caxambu, Geraldo Magela Barbosa 2º Tesoureiro Caxambu Associação Mineira de Municípios, ADRIANO JOSÉ SENADOR Associação dos Municípios da Microrregião do Circuito, Teófilo Faust...  \n",
       "2  [LORENA CÂNDIDA VIEIRA BORGES CRC Emergência da Macrorregião do Triângulo Norte, LORENA CÂNDIDA VIEIRA BORGES CRC Portaria n. 72/2012 da Secretaria do Tesouro Nacional, GILMAR ALVES MACHADO Consórcio Público, GILMAR ALVES MACHADO Portaria n. 72/2012 da Secretaria do Tesouro Nacional, LORENA CÂNDIDA VIEIRA BORGES CRC Tesouro Nacional, GILMAR ALVES MACHADO art.s 17 e 28 do Contrato do Consórcio ...  \n",
       "3                                                                                                                                                                                                                                                                                                  [GILMAR ALVES MACHADO MG CEP, Antônio Thomaz Ferreira de Rezende MG CEP, Distrito Industrial Uberlândia MG CEP]  \n",
       "4  [SECRETÁRIA EXECUTIVA ASSEMBLEIA GERAL DO CISTRI, GILMAR ALVES MACHADO MINISTÉRIO PÚBLICO, GILMAR ALVES MACHADO ASSEMBLEIA GERAL DO CISTRI, CISTRI DAYANA FERREIRA DA FONSECA MINISTÉRIO PÚBLICO, GILMAR MACHADO MINISTÉRIO PÚBLICO, GILMAR MACHADO ASSEMBLEIA GERAL DO CISTRI, DAYANA FONSECA ASSEMBLEIA GERAL DO CISTRI, SECRETÁRIA EXECUTIVA MINISTÉRIO PÚBLICO, DAYANA FONSECA COLOCA MINISTÉRIO PÚBLICO...  "
      ]
     },
     "execution_count": 27,
     "metadata": {},
     "output_type": "execute_result"
    }
   ],
   "source": [
    "print(len(diario_df_entidades))\n",
    "diario_df_entidades.head()"
   ]
  },
  {
   "cell_type": "markdown",
   "id": "86699406",
   "metadata": {},
   "source": [
    "# Treinamento"
   ]
  },
  {
   "cell_type": "code",
   "execution_count": 11,
   "id": "60d46831",
   "metadata": {},
   "outputs": [],
   "source": [
    "diario_df_entidades = diario_df_entidades[diario_df_entidades[\"entidades\"].apply(bool)]"
   ]
  },
  {
   "cell_type": "code",
   "execution_count": 5,
   "id": "1ba632bd",
   "metadata": {},
   "outputs": [],
   "source": [
    "train_df = pd.read_csv(\"temp.csv\")"
   ]
  },
  {
   "cell_type": "code",
   "execution_count": 28,
   "id": "7d10d19f",
   "metadata": {},
   "outputs": [
    {
     "data": {
      "text/html": [
       "<div>\n",
       "<style scoped>\n",
       "    .dataframe tbody tr th:only-of-type {\n",
       "        vertical-align: middle;\n",
       "    }\n",
       "\n",
       "    .dataframe tbody tr th {\n",
       "        vertical-align: top;\n",
       "    }\n",
       "\n",
       "    .dataframe thead th {\n",
       "        text-align: right;\n",
       "    }\n",
       "</style>\n",
       "<table border=\"1\" class=\"dataframe\">\n",
       "  <thead>\n",
       "    <tr style=\"text-align: right;\">\n",
       "      <th></th>\n",
       "      <th>doc</th>\n",
       "      <th>query</th>\n",
       "    </tr>\n",
       "  </thead>\n",
       "  <tbody>\n",
       "    <tr>\n",
       "      <th>1</th>\n",
       "      <td>ABERTURA DO PREGÃO PRESENCIAL 58/16 Torna público a abertura do Pregão Presencial 58/16 no dia 07/11/16 às 09h30min, com credenciamento a partir das 09h. Objeto: contratação de empresa para execução de rede óptica subterrânea para interligação da escola municipal da Nilza Vieira à escola municipal de Lapinha e USF Lapinha com fornecimento de materiais. O edital na íntegra estará disponível na ...</td>\n",
       "      <td>ADRIANO JOSÉ SENADOR Associação Mineira de Municípios</td>\n",
       "    </tr>\n",
       "    <tr>\n",
       "      <th>1</th>\n",
       "      <td>ABERTURA DO PREGÃO PRESENCIAL 58/16 Torna público a abertura do Pregão Presencial 58/16 no dia 07/11/16 às 09h30min, com credenciamento a partir das 09h. Objeto: contratação de empresa para execução de rede óptica subterrânea para interligação da escola municipal da Nilza Vieira à escola municipal de Lapinha e USF Lapinha com fornecimento de materiais. O edital na íntegra estará disponível na ...</td>\n",
       "      <td>ADRIANO JOSÉ SENADOR Caxambu Associação dos Municípios da Microrregião do Circuito</td>\n",
       "    </tr>\n",
       "    <tr>\n",
       "      <th>1</th>\n",
       "      <td>ABERTURA DO PREGÃO PRESENCIAL 58/16 Torna público a abertura do Pregão Presencial 58/16 no dia 07/11/16 às 09h30min, com credenciamento a partir das 09h. Objeto: contratação de empresa para execução de rede óptica subterrânea para interligação da escola municipal da Nilza Vieira à escola municipal de Lapinha e USF Lapinha com fornecimento de materiais. O edital na íntegra estará disponível na ...</td>\n",
       "      <td>Teófilo Faustino Miranda Torres Duarte Minas Gerais CPL</td>\n",
       "    </tr>\n",
       "    <tr>\n",
       "      <th>1</th>\n",
       "      <td>ABERTURA DO PREGÃO PRESENCIAL 58/16 Torna público a abertura do Pregão Presencial 58/16 no dia 07/11/16 às 09h30min, com credenciamento a partir das 09h. Objeto: contratação de empresa para execução de rede óptica subterrânea para interligação da escola municipal da Nilza Vieira à escola municipal de Lapinha e USF Lapinha com fornecimento de materiais. O edital na íntegra estará disponível na ...</td>\n",
       "      <td>Avenida Camilo Soares Caxambu</td>\n",
       "    </tr>\n",
       "    <tr>\n",
       "      <th>1</th>\n",
       "      <td>ABERTURA DO PREGÃO PRESENCIAL 58/16 Torna público a abertura do Pregão Presencial 58/16 no dia 07/11/16 às 09h30min, com credenciamento a partir das 09h. Objeto: contratação de empresa para execução de rede óptica subterrânea para interligação da escola municipal da Nilza Vieira à escola municipal de Lapinha e USF Lapinha com fornecimento de materiais. O edital na íntegra estará disponível na ...</td>\n",
       "      <td>Geraldo Magela Barbosa 2º Tesoureiro Caxambu Associação Mineira de Municípios</td>\n",
       "    </tr>\n",
       "    <tr>\n",
       "      <th>...</th>\n",
       "      <td>...</td>\n",
       "      <td>...</td>\n",
       "    </tr>\n",
       "    <tr>\n",
       "      <th>519</th>\n",
       "      <td>PROCESSO DE LICITAÇÃO Nº 058/2.017 PREGÃO PRESENCIAL Nº 034/2.017 REGISTRO DE PREÇO Nº 028/2017 A Prefeitura Municipal de São Francisco do Glória torna público nos termos da Lei Federal nº 10.520/02 C/C Lei Federal nº 8.666/93 e a Pregoeira, tornam público que fará realizar o Processo de Licitação nº. 058/2017/Pregão Presencial nº. 034/2017/Registro de Preço nº. 028/2.017, cujo objeto é o regi...</td>\n",
       "      <td>BRENO FERREIRA RIOS CNPJ 55.956.510/0001</td>\n",
       "    </tr>\n",
       "    <tr>\n",
       "      <th>519</th>\n",
       "      <td>PROCESSO DE LICITAÇÃO Nº 058/2.017 PREGÃO PRESENCIAL Nº 034/2.017 REGISTRO DE PREÇO Nº 028/2017 A Prefeitura Municipal de São Francisco do Glória torna público nos termos da Lei Federal nº 10.520/02 C/C Lei Federal nº 8.666/93 e a Pregoeira, tornam público que fará realizar o Processo de Licitação nº. 058/2017/Pregão Presencial nº. 034/2017/Registro de Preço nº. 028/2.017, cujo objeto é o regi...</td>\n",
       "      <td>PABLO LUIZ LOPES BRASIL SAAE</td>\n",
       "    </tr>\n",
       "    <tr>\n",
       "      <th>519</th>\n",
       "      <td>PROCESSO DE LICITAÇÃO Nº 058/2.017 PREGÃO PRESENCIAL Nº 034/2.017 REGISTRO DE PREÇO Nº 028/2017 A Prefeitura Municipal de São Francisco do Glória torna público nos termos da Lei Federal nº 10.520/02 C/C Lei Federal nº 8.666/93 e a Pregoeira, tornam público que fará realizar o Processo de Licitação nº. 058/2017/Pregão Presencial nº. 034/2017/Registro de Preço nº. 028/2.017, cujo objeto é o regi...</td>\n",
       "      <td>COMERCIO LTDA SAAE</td>\n",
       "    </tr>\n",
       "    <tr>\n",
       "      <th>519</th>\n",
       "      <td>PROCESSO DE LICITAÇÃO Nº 058/2.017 PREGÃO PRESENCIAL Nº 034/2.017 REGISTRO DE PREÇO Nº 028/2017 A Prefeitura Municipal de São Francisco do Glória torna público nos termos da Lei Federal nº 10.520/02 C/C Lei Federal nº 8.666/93 e a Pregoeira, tornam público que fará realizar o Processo de Licitação nº. 058/2017/Pregão Presencial nº. 034/2017/Registro de Preço nº. 028/2.017, cujo objeto é o regi...</td>\n",
       "      <td>ANALITICA QUIMICA LIO SERUM PROD LABORATORIAIS E HOSPITALARES LTDA</td>\n",
       "    </tr>\n",
       "    <tr>\n",
       "      <th>519</th>\n",
       "      <td>PROCESSO DE LICITAÇÃO Nº 058/2.017 PREGÃO PRESENCIAL Nº 034/2.017 REGISTRO DE PREÇO Nº 028/2017 A Prefeitura Municipal de São Francisco do Glória torna público nos termos da Lei Federal nº 10.520/02 C/C Lei Federal nº 8.666/93 e a Pregoeira, tornam público que fará realizar o Processo de Licitação nº. 058/2017/Pregão Presencial nº. 034/2017/Registro de Preço nº. 028/2.017, cujo objeto é o regi...</td>\n",
       "      <td>BRENO FERREIRA RIOS COMERCIO LTDA</td>\n",
       "    </tr>\n",
       "  </tbody>\n",
       "</table>\n",
       "<p>5370 rows × 2 columns</p>\n",
       "</div>"
      ],
      "text/plain": [
       "                                                                                                                                                                                                                                                                                                                                                                                                                 doc  \\\n",
       "1    ABERTURA DO PREGÃO PRESENCIAL 58/16 Torna público a abertura do Pregão Presencial 58/16 no dia 07/11/16 às 09h30min, com credenciamento a partir das 09h. Objeto: contratação de empresa para execução de rede óptica subterrânea para interligação da escola municipal da Nilza Vieira à escola municipal de Lapinha e USF Lapinha com fornecimento de materiais. O edital na íntegra estará disponível na ...   \n",
       "1    ABERTURA DO PREGÃO PRESENCIAL 58/16 Torna público a abertura do Pregão Presencial 58/16 no dia 07/11/16 às 09h30min, com credenciamento a partir das 09h. Objeto: contratação de empresa para execução de rede óptica subterrânea para interligação da escola municipal da Nilza Vieira à escola municipal de Lapinha e USF Lapinha com fornecimento de materiais. O edital na íntegra estará disponível na ...   \n",
       "1    ABERTURA DO PREGÃO PRESENCIAL 58/16 Torna público a abertura do Pregão Presencial 58/16 no dia 07/11/16 às 09h30min, com credenciamento a partir das 09h. Objeto: contratação de empresa para execução de rede óptica subterrânea para interligação da escola municipal da Nilza Vieira à escola municipal de Lapinha e USF Lapinha com fornecimento de materiais. O edital na íntegra estará disponível na ...   \n",
       "1    ABERTURA DO PREGÃO PRESENCIAL 58/16 Torna público a abertura do Pregão Presencial 58/16 no dia 07/11/16 às 09h30min, com credenciamento a partir das 09h. Objeto: contratação de empresa para execução de rede óptica subterrânea para interligação da escola municipal da Nilza Vieira à escola municipal de Lapinha e USF Lapinha com fornecimento de materiais. O edital na íntegra estará disponível na ...   \n",
       "1    ABERTURA DO PREGÃO PRESENCIAL 58/16 Torna público a abertura do Pregão Presencial 58/16 no dia 07/11/16 às 09h30min, com credenciamento a partir das 09h. Objeto: contratação de empresa para execução de rede óptica subterrânea para interligação da escola municipal da Nilza Vieira à escola municipal de Lapinha e USF Lapinha com fornecimento de materiais. O edital na íntegra estará disponível na ...   \n",
       "..                                                                                                                                                                                                                                                                                                                                                                                                               ...   \n",
       "519  PROCESSO DE LICITAÇÃO Nº 058/2.017 PREGÃO PRESENCIAL Nº 034/2.017 REGISTRO DE PREÇO Nº 028/2017 A Prefeitura Municipal de São Francisco do Glória torna público nos termos da Lei Federal nº 10.520/02 C/C Lei Federal nº 8.666/93 e a Pregoeira, tornam público que fará realizar o Processo de Licitação nº. 058/2017/Pregão Presencial nº. 034/2017/Registro de Preço nº. 028/2.017, cujo objeto é o regi...   \n",
       "519  PROCESSO DE LICITAÇÃO Nº 058/2.017 PREGÃO PRESENCIAL Nº 034/2.017 REGISTRO DE PREÇO Nº 028/2017 A Prefeitura Municipal de São Francisco do Glória torna público nos termos da Lei Federal nº 10.520/02 C/C Lei Federal nº 8.666/93 e a Pregoeira, tornam público que fará realizar o Processo de Licitação nº. 058/2017/Pregão Presencial nº. 034/2017/Registro de Preço nº. 028/2.017, cujo objeto é o regi...   \n",
       "519  PROCESSO DE LICITAÇÃO Nº 058/2.017 PREGÃO PRESENCIAL Nº 034/2.017 REGISTRO DE PREÇO Nº 028/2017 A Prefeitura Municipal de São Francisco do Glória torna público nos termos da Lei Federal nº 10.520/02 C/C Lei Federal nº 8.666/93 e a Pregoeira, tornam público que fará realizar o Processo de Licitação nº. 058/2017/Pregão Presencial nº. 034/2017/Registro de Preço nº. 028/2.017, cujo objeto é o regi...   \n",
       "519  PROCESSO DE LICITAÇÃO Nº 058/2.017 PREGÃO PRESENCIAL Nº 034/2.017 REGISTRO DE PREÇO Nº 028/2017 A Prefeitura Municipal de São Francisco do Glória torna público nos termos da Lei Federal nº 10.520/02 C/C Lei Federal nº 8.666/93 e a Pregoeira, tornam público que fará realizar o Processo de Licitação nº. 058/2017/Pregão Presencial nº. 034/2017/Registro de Preço nº. 028/2.017, cujo objeto é o regi...   \n",
       "519  PROCESSO DE LICITAÇÃO Nº 058/2.017 PREGÃO PRESENCIAL Nº 034/2.017 REGISTRO DE PREÇO Nº 028/2017 A Prefeitura Municipal de São Francisco do Glória torna público nos termos da Lei Federal nº 10.520/02 C/C Lei Federal nº 8.666/93 e a Pregoeira, tornam público que fará realizar o Processo de Licitação nº. 058/2017/Pregão Presencial nº. 034/2017/Registro de Preço nº. 028/2.017, cujo objeto é o regi...   \n",
       "\n",
       "                                                                                  query  \n",
       "1                                 ADRIANO JOSÉ SENADOR Associação Mineira de Municípios  \n",
       "1    ADRIANO JOSÉ SENADOR Caxambu Associação dos Municípios da Microrregião do Circuito  \n",
       "1                               Teófilo Faustino Miranda Torres Duarte Minas Gerais CPL  \n",
       "1                                                         Avenida Camilo Soares Caxambu  \n",
       "1         Geraldo Magela Barbosa 2º Tesoureiro Caxambu Associação Mineira de Municípios  \n",
       "..                                                                                  ...  \n",
       "519                                            BRENO FERREIRA RIOS CNPJ 55.956.510/0001  \n",
       "519                                                        PABLO LUIZ LOPES BRASIL SAAE  \n",
       "519                                                                  COMERCIO LTDA SAAE  \n",
       "519                  ANALITICA QUIMICA LIO SERUM PROD LABORATORIAIS E HOSPITALARES LTDA  \n",
       "519                                                   BRENO FERREIRA RIOS COMERCIO LTDA  \n",
       "\n",
       "[5370 rows x 2 columns]"
      ]
     },
     "execution_count": 28,
     "metadata": {},
     "output_type": "execute_result"
    }
   ],
   "source": [
    "train_df = diario_df_entidades[[\"materia\", \"possiveis_consultas\"]].explode(\"possiveis_consultas\")\n",
    "train_df.columns = [\"doc\", \"query\"]\n",
    "train_df.dropna()"
   ]
  },
  {
   "cell_type": "code",
   "execution_count": 40,
   "id": "2507755e",
   "metadata": {},
   "outputs": [],
   "source": [
    "train_df[\"len\"] = train_df[\"query\"].apply(len)\n",
    "train_df = train_df[train_df[\"len\"] > 10]\n",
    "train_df = train_df[train_df[\"len\"] < 100]"
   ]
  },
  {
   "cell_type": "code",
   "execution_count": 42,
   "id": "16fbd3f8",
   "metadata": {},
   "outputs": [],
   "source": [
    "train_df[\"doc\"] = train_df[\"doc\"].apply(str)\n",
    "train_df[\"query\"] = train_df[\"query\"].apply(str)"
   ]
  },
  {
   "cell_type": "code",
   "execution_count": 72,
   "id": "4bee014a",
   "metadata": {},
   "outputs": [],
   "source": [
    "def average_similarity():\n",
    "    false_pairs, true_pairs = 0, 0\n",
    "    SAMPLE_SIZE = 1000\n",
    "    df_sample = train_df.sample(SAMPLE_SIZE, random_state=42)\n",
    "    for i in tqdm(range(1, SAMPLE_SIZE)):\n",
    "        row, neg = df_sample.iloc[i], df_sample.iloc[i - 1]\n",
    "        output = model.encode([row[\"query\"], row[\"doc\"], neg[\"doc\"]]), \n",
    "\n",
    "        true_pairs += 1 - spatial.distance.cosine(output[0][0], output[0][1])\n",
    "        false_pairs += 1 - spatial.distance.cosine(output[0][0], output[0][2])\n",
    "\n",
    "    print(\"Média de similaridade dos positivos: \", true_pairs / SAMPLE_SIZE)\n",
    "    print(\"Média de similaridade dos negativos: \", false_pairs / SAMPLE_SIZE)"
   ]
  },
  {
   "cell_type": "code",
   "execution_count": 73,
   "id": "ad642957",
   "metadata": {},
   "outputs": [],
   "source": [
    "from sentence_transformers import SentenceTransformer, models\n",
    "from torch import nn\n",
    "\n",
    "word_embedding_model = models.Transformer('neuralmind/bert-base-portuguese-cased', max_seq_length=250)\n",
    "pooling_model = models.Pooling(word_embedding_model.get_word_embedding_dimension())\n",
    "\n",
    "model = SentenceTransformer(modules=[word_embedding_model, pooling_model])"
   ]
  },
  {
   "cell_type": "code",
   "execution_count": 74,
   "id": "c08273a3",
   "metadata": {},
   "outputs": [
    {
     "name": "stderr",
     "output_type": "stream",
     "text": [
      "100%|███████████████████████████████████████████████████████████████████████████████| 999/999 [00:24<00:00, 40.59it/s]"
     ]
    },
    {
     "name": "stdout",
     "output_type": "stream",
     "text": [
      "Média de similaridade dos positivos:  0.608215974509716\n",
      "Média de similaridade dos negativos:  0.6101312281638384\n"
     ]
    },
    {
     "name": "stderr",
     "output_type": "stream",
     "text": [
      "\n"
     ]
    }
   ],
   "source": [
    "average_similarity()"
   ]
  },
  {
   "cell_type": "code",
   "execution_count": 75,
   "id": "fe8bac1d",
   "metadata": {},
   "outputs": [
    {
     "name": "stderr",
     "output_type": "stream",
     "text": [
      "100%|██████████████████████████████████████████████████████████████████████████▉| 2999/3000 [00:00<00:00, 4335.34it/s]\n"
     ]
    }
   ],
   "source": [
    "examples = []\n",
    "SAMPLE_SIZE = 3000\n",
    "for i in tqdm(range(1, len(train_df.sample(SAMPLE_SIZE, random_state=24))), position=0, leave=True, total=SAMPLE_SIZE):\n",
    "  row, neg = train_df.iloc[i], train_df.iloc[i - 1]\n",
    "  examples.append(InputExample(texts=[row[\"query\"], row[\"doc\"], neg[\"doc\"]]))"
   ]
  },
  {
   "cell_type": "code",
   "execution_count": 76,
   "id": "bb47caf7",
   "metadata": {},
   "outputs": [
    {
     "data": {
      "application/vnd.jupyter.widget-view+json": {
       "model_id": "3bca23e12f9b4a6bb95436314f18eecf",
       "version_major": 2,
       "version_minor": 0
      },
      "text/plain": [
       "HBox(children=(HTML(value='Epoch'), FloatProgress(value=0.0, max=1.0), HTML(value='')))"
      ]
     },
     "metadata": {},
     "output_type": "display_data"
    },
    {
     "data": {
      "application/vnd.jupyter.widget-view+json": {
       "model_id": "ff2cb92820d74afbab1d1bd7242cc9ba",
       "version_major": 2,
       "version_minor": 0
      },
      "text/plain": [
       "HBox(children=(HTML(value='Iteration'), FloatProgress(value=0.0, max=375.0), HTML(value='')))"
      ]
     },
     "metadata": {},
     "output_type": "display_data"
    },
    {
     "name": "stdout",
     "output_type": "stream",
     "text": [
      "\n",
      "\n"
     ]
    }
   ],
   "source": [
    "dataloader = DataLoader(examples, shuffle=True, batch_size=8)\n",
    "train_loss = losses.TripletLoss(model)\n",
    "model.fit(train_objectives=[(dataloader, train_loss)], epochs=1, warmup_steps=50, use_amp=True)"
   ]
  },
  {
   "cell_type": "code",
   "execution_count": 77,
   "id": "d86b91fb",
   "metadata": {},
   "outputs": [
    {
     "name": "stderr",
     "output_type": "stream",
     "text": [
      "100%|███████████████████████████████████████████████████████████████████████████████| 999/999 [00:25<00:00, 39.32it/s]"
     ]
    },
    {
     "name": "stdout",
     "output_type": "stream",
     "text": [
      "Média de similaridade dos positivos:  0.5421588616222143\n",
      "Média de similaridade dos negativos:  0.5392619294971228\n"
     ]
    },
    {
     "name": "stderr",
     "output_type": "stream",
     "text": [
      "\n"
     ]
    }
   ],
   "source": [
    "average_similarity()"
   ]
  },
  {
   "cell_type": "markdown",
   "id": "69835884",
   "metadata": {},
   "source": [
    "# Possíveis consultas"
   ]
  },
  {
   "cell_type": "code",
   "execution_count": 71,
   "id": "4be20e4c",
   "metadata": {},
   "outputs": [
    {
     "data": {
      "text/html": [
       "<div>\n",
       "<style scoped>\n",
       "    .dataframe tbody tr th:only-of-type {\n",
       "        vertical-align: middle;\n",
       "    }\n",
       "\n",
       "    .dataframe tbody tr th {\n",
       "        vertical-align: top;\n",
       "    }\n",
       "\n",
       "    .dataframe thead th {\n",
       "        text-align: right;\n",
       "    }\n",
       "</style>\n",
       "<table border=\"1\" class=\"dataframe\">\n",
       "  <thead>\n",
       "    <tr style=\"text-align: right;\">\n",
       "      <th></th>\n",
       "      <th>query</th>\n",
       "    </tr>\n",
       "  </thead>\n",
       "  <tbody>\n",
       "    <tr>\n",
       "      <th>1</th>\n",
       "      <td>ADRIANO JOSÉ SENADOR Associação Mineira de Municípios</td>\n",
       "    </tr>\n",
       "    <tr>\n",
       "      <th>2</th>\n",
       "      <td>ADRIANO JOSÉ SENADOR Caxambu Associação dos Municípios da Microrregião do Circuito</td>\n",
       "    </tr>\n",
       "    <tr>\n",
       "      <th>3</th>\n",
       "      <td>Teófilo Faustino Miranda Torres Duarte Minas Gerais CPL</td>\n",
       "    </tr>\n",
       "    <tr>\n",
       "      <th>4</th>\n",
       "      <td>Avenida Camilo Soares Caxambu</td>\n",
       "    </tr>\n",
       "    <tr>\n",
       "      <th>5</th>\n",
       "      <td>Geraldo Magela Barbosa 2º Tesoureiro Caxambu Associação Mineira de Municípios</td>\n",
       "    </tr>\n",
       "    <tr>\n",
       "      <th>...</th>\n",
       "      <td>...</td>\n",
       "    </tr>\n",
       "    <tr>\n",
       "      <th>5491</th>\n",
       "      <td>BRENO FERREIRA RIOS CNPJ 55.956.510/0001</td>\n",
       "    </tr>\n",
       "    <tr>\n",
       "      <th>5492</th>\n",
       "      <td>PABLO LUIZ LOPES BRASIL SAAE</td>\n",
       "    </tr>\n",
       "    <tr>\n",
       "      <th>5493</th>\n",
       "      <td>COMERCIO LTDA SAAE</td>\n",
       "    </tr>\n",
       "    <tr>\n",
       "      <th>5494</th>\n",
       "      <td>ANALITICA QUIMICA LIO SERUM PROD LABORATORIAIS E HOSPITALARES LTDA</td>\n",
       "    </tr>\n",
       "    <tr>\n",
       "      <th>5495</th>\n",
       "      <td>BRENO FERREIRA RIOS COMERCIO LTDA</td>\n",
       "    </tr>\n",
       "  </tbody>\n",
       "</table>\n",
       "<p>4801 rows × 1 columns</p>\n",
       "</div>"
      ],
      "text/plain": [
       "                                                                                   query\n",
       "1                                  ADRIANO JOSÉ SENADOR Associação Mineira de Municípios\n",
       "2     ADRIANO JOSÉ SENADOR Caxambu Associação dos Municípios da Microrregião do Circuito\n",
       "3                                Teófilo Faustino Miranda Torres Duarte Minas Gerais CPL\n",
       "4                                                          Avenida Camilo Soares Caxambu\n",
       "5          Geraldo Magela Barbosa 2º Tesoureiro Caxambu Associação Mineira de Municípios\n",
       "...                                                                                  ...\n",
       "5491                                            BRENO FERREIRA RIOS CNPJ 55.956.510/0001\n",
       "5492                                                        PABLO LUIZ LOPES BRASIL SAAE\n",
       "5493                                                                  COMERCIO LTDA SAAE\n",
       "5494                  ANALITICA QUIMICA LIO SERUM PROD LABORATORIAIS E HOSPITALARES LTDA\n",
       "5495                                                   BRENO FERREIRA RIOS COMERCIO LTDA\n",
       "\n",
       "[4801 rows x 1 columns]"
      ]
     },
     "execution_count": 71,
     "metadata": {},
     "output_type": "execute_result"
    }
   ],
   "source": [
    "train_df[\"query\"].to_frame()"
   ]
  },
  {
   "cell_type": "code",
   "execution_count": null,
   "id": "0b5c2b21",
   "metadata": {},
   "outputs": [],
   "source": []
  }
 ],
 "metadata": {
  "kernelspec": {
   "display_name": "Python 3 (ipykernel)",
   "language": "python",
   "name": "python3"
  },
  "language_info": {
   "codemirror_mode": {
    "name": "ipython",
    "version": 3
   },
   "file_extension": ".py",
   "mimetype": "text/x-python",
   "name": "python",
   "nbconvert_exporter": "python",
   "pygments_lexer": "ipython3",
   "version": "3.8.3"
  }
 },
 "nbformat": 4,
 "nbformat_minor": 5
}
