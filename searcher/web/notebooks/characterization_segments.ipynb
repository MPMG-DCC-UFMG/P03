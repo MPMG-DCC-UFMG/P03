{
 "cells": [
  {
   "cell_type": "code",
   "execution_count": 1,
   "id": "245ff5ec",
   "metadata": {},
   "outputs": [],
   "source": [
    "import pandas as pd\n",
    "import os\n",
    "import json\n",
    "from tqdm import tqdm\n",
    "pd.set_option('max_colwidth', 400)"
   ]
  },
  {
   "cell_type": "code",
   "execution_count": 2,
   "id": "58f46279",
   "metadata": {},
   "outputs": [],
   "source": [
    "import pandas as pd\n",
    "from scipy import spatial\n",
    "import numpy as np\n",
    "from tqdm import tqdm\n",
    "from torch.utils.data import DataLoader\n",
    "from scipy import stats\n",
    "from sklearn.metrics.pairwise import cosine_similarity\n",
    "from sentence_transformers import SentenceTransformer, LoggingHandler, util, models, evaluation, losses, InputExample"
   ]
  },
  {
   "cell_type": "code",
   "execution_count": 3,
   "id": "7fdd0475",
   "metadata": {},
   "outputs": [],
   "source": [
    "import matplotlib.pyplot as plt\n",
    "import seaborn as sns\n",
    "sns.set()"
   ]
  },
  {
   "cell_type": "markdown",
   "id": "c7e61475",
   "metadata": {},
   "source": [
    "# Leitura da entrada"
   ]
  },
  {
   "cell_type": "code",
   "execution_count": 4,
   "id": "be97d000",
   "metadata": {},
   "outputs": [],
   "source": [
    "def transform_json(diario_json):\n",
    "    dict_list =  []\n",
    "    for key, value in json.loads(diario_json).items():\n",
    "        for v in value:\n",
    "            v[\"origin\"] = key\n",
    "            dict_list.append(v)\n",
    "    return pd.DataFrame(dict_list)"
   ]
  },
  {
   "cell_type": "code",
   "execution_count": 5,
   "id": "608b882e",
   "metadata": {},
   "outputs": [
    {
     "name": "stderr",
     "output_type": "stream",
     "text": [
      "100%|████████████████████████████████████████████████████████████████████████████| 1640/1640 [00:11<00:00, 143.88it/s]\n"
     ]
    }
   ],
   "source": [
    "dfs = []\n",
    "directory = \"../saida_segmentacao/AMM/\"\n",
    "for filename in tqdm(list(os.listdir(directory))):\n",
    "    with open(directory + filename, \"r\") as jsonfile:\n",
    "        diario_json = jsonfile.read()\n",
    "        dfs.append(transform_json(diario_json))"
   ]
  },
  {
   "cell_type": "code",
   "execution_count": 6,
   "id": "2397926f",
   "metadata": {},
   "outputs": [
    {
     "data": {
      "text/html": [
       "<div>\n",
       "<style scoped>\n",
       "    .dataframe tbody tr th:only-of-type {\n",
       "        vertical-align: middle;\n",
       "    }\n",
       "\n",
       "    .dataframe tbody tr th {\n",
       "        vertical-align: top;\n",
       "    }\n",
       "\n",
       "    .dataframe thead th {\n",
       "        text-align: right;\n",
       "    }\n",
       "</style>\n",
       "<table border=\"1\" class=\"dataframe\">\n",
       "  <thead>\n",
       "    <tr style=\"text-align: right;\">\n",
       "      <th></th>\n",
       "      <th>titulo</th>\n",
       "      <th>subtitulo</th>\n",
       "      <th>materia</th>\n",
       "      <th>publicador</th>\n",
       "      <th>id</th>\n",
       "      <th>origin</th>\n",
       "    </tr>\n",
       "  </thead>\n",
       "  <tbody>\n",
       "    <tr>\n",
       "      <th>341</th>\n",
       "      <td>COMUNICAÇÃO INSTITUCIONAL</td>\n",
       "      <td>DECRETO Nº 8745 DE 15 DE OUTUBRO DE 2018</td>\n",
       "      <td>Av. Maestro Sansão, n. 236 - Centro CNPJ: 17.947.581/0001-76 Telefone: 3696-3300 DECRETO Nº 8745 de 15 de OUTUBRO de 2018.Emissão: 06/11/2018 Exercício: 2018 \"Abre Crédito Adicional SUPLEMENTAR no valor de R$ 5.220.000,00 para reforço de dotações constantes do vigente orçamento e da outras providências.\" Ioannis Konstantinos Grammatikopoulos, PREFEITO MUNICIPAL de(a)(o) Muriaé, ESTADO DE MINAS...</td>\n",
       "      <td>Leonor Marcos Soares Dias</td>\n",
       "      <td>0D92C59D</td>\n",
       "      <td>PREFEITURA DE MURIAÉ</td>\n",
       "    </tr>\n",
       "    <tr>\n",
       "      <th>373</th>\n",
       "      <td>DEPARTAMENTO DE LICITAÇÕES</td>\n",
       "      <td>EXTRATO DE CONTRATOS</td>\n",
       "      <td>PREFEITURA MUNICIPAL DE SÃO FRANCISCO/MG – Extrato do contrato da Adesão 002/2017. OBJETO: Registro de Preços para futura e eventual contratação de pessoa jurídica para fornecimento de Pneus e Câmaras de Ar para atender a demando das Secretarias Municipais da Administração Publica do Município de São Francisco MG, CONTRATADAS: contrato nº 109/2017 LF Empresarial Ltda./EPP – Valor Global: R$ 14...</td>\n",
       "      <td>Jardson dos Santos Guedes</td>\n",
       "      <td>B232FD7D</td>\n",
       "      <td>PREFEITURA DE SÃO FRANCISCO</td>\n",
       "    </tr>\n",
       "    <tr>\n",
       "      <th>378</th>\n",
       "      <td>SETOR JURÍDICO</td>\n",
       "      <td>REPUBLICAÇÃO LEI</td>\n",
       "      <td>LEI 1418, DE 05 DE ABRIL DE 2013. REGULARIZAÇÃO DOS SERVIDORES EM DESVIO DE FUNÇÃO E DÁ OUTRAS PROVIDÊNCIAS. O povo do Município de Recreio, por seus representantes na Câmara Municipal, aprovou e eu, prefeito municipal, sanciono a seguinte Lei. Art. 1º. Fica autorizado o poder Executivo Municipal a realizar desvios de função, desde que, o cargo não exija qualificação técnica especifica. Art. 2...</td>\n",
       "      <td>Leano Pessamilio Carraro</td>\n",
       "      <td>0A3D9346</td>\n",
       "      <td>MUNICÍPIO DE RECREIO</td>\n",
       "    </tr>\n",
       "  </tbody>\n",
       "</table>\n",
       "</div>"
      ],
      "text/plain": [
       "                         titulo                                 subtitulo  \\\n",
       "341   COMUNICAÇÃO INSTITUCIONAL  DECRETO Nº 8745 DE 15 DE OUTUBRO DE 2018   \n",
       "373  DEPARTAMENTO DE LICITAÇÕES                      EXTRATO DE CONTRATOS   \n",
       "378              SETOR JURÍDICO                          REPUBLICAÇÃO LEI   \n",
       "\n",
       "                                                                                                                                                                                                                                                                                                                                                                                                             materia  \\\n",
       "341  Av. Maestro Sansão, n. 236 - Centro CNPJ: 17.947.581/0001-76 Telefone: 3696-3300 DECRETO Nº 8745 de 15 de OUTUBRO de 2018.Emissão: 06/11/2018 Exercício: 2018 \"Abre Crédito Adicional SUPLEMENTAR no valor de R$ 5.220.000,00 para reforço de dotações constantes do vigente orçamento e da outras providências.\" Ioannis Konstantinos Grammatikopoulos, PREFEITO MUNICIPAL de(a)(o) Muriaé, ESTADO DE MINAS...   \n",
       "373  PREFEITURA MUNICIPAL DE SÃO FRANCISCO/MG – Extrato do contrato da Adesão 002/2017. OBJETO: Registro de Preços para futura e eventual contratação de pessoa jurídica para fornecimento de Pneus e Câmaras de Ar para atender a demando das Secretarias Municipais da Administração Publica do Município de São Francisco MG, CONTRATADAS: contrato nº 109/2017 LF Empresarial Ltda./EPP – Valor Global: R$ 14...   \n",
       "378  LEI 1418, DE 05 DE ABRIL DE 2013. REGULARIZAÇÃO DOS SERVIDORES EM DESVIO DE FUNÇÃO E DÁ OUTRAS PROVIDÊNCIAS. O povo do Município de Recreio, por seus representantes na Câmara Municipal, aprovou e eu, prefeito municipal, sanciono a seguinte Lei. Art. 1º. Fica autorizado o poder Executivo Municipal a realizar desvios de função, desde que, o cargo não exija qualificação técnica especifica. Art. 2...   \n",
       "\n",
       "                    publicador        id                       origin  \n",
       "341  Leonor Marcos Soares Dias  0D92C59D         PREFEITURA DE MURIAÉ  \n",
       "373  Jardson dos Santos Guedes  B232FD7D  PREFEITURA DE SÃO FRANCISCO  \n",
       "378   Leano Pessamilio Carraro  0A3D9346         MUNICÍPIO DE RECREIO  "
      ]
     },
     "execution_count": 6,
     "metadata": {},
     "output_type": "execute_result"
    }
   ],
   "source": [
    "diario_df = pd.concat(dfs)\n",
    "diario_df.sample(3)"
   ]
  },
  {
   "cell_type": "markdown",
   "id": "ee0e498a",
   "metadata": {},
   "source": [
    "# Caracterização"
   ]
  },
  {
   "cell_type": "code",
   "execution_count": 6,
   "id": "fdb501fe",
   "metadata": {},
   "outputs": [],
   "source": [
    "from transformers import AutoTokenizer\n",
    "tokenizer = AutoTokenizer.from_pretrained('neuralmind/bert-base-portuguese-cased')"
   ]
  },
  {
   "cell_type": "code",
   "execution_count": 8,
   "id": "cb66a0c8",
   "metadata": {},
   "outputs": [
    {
     "name": "stderr",
     "output_type": "stream",
     "text": [
      "100%|████████████████████████████████████████████████████████████████████████| 699759/699759 [31:57<00:00, 364.89it/s]\n"
     ]
    }
   ],
   "source": [
    "sizes = []\n",
    "for idx, row in tqdm(diario_df.iterrows(), total = len(diario_df)):\n",
    "    sizes.append(len(tokenizer(row[\"materia\"])[\"input_ids\"]))"
   ]
  },
  {
   "cell_type": "code",
   "execution_count": 23,
   "id": "4b124cd5",
   "metadata": {},
   "outputs": [
    {
     "data": {
      "text/plain": [
       "2"
      ]
     },
     "execution_count": 23,
     "metadata": {},
     "output_type": "execute_result"
    }
   ],
   "source": [
    "diario_df[\"comprimento\"].min()"
   ]
  },
  {
   "cell_type": "code",
   "execution_count": 24,
   "id": "f7de56f9",
   "metadata": {},
   "outputs": [
    {
     "data": {
      "text/plain": [
       "554023"
      ]
     },
     "execution_count": 24,
     "metadata": {},
     "output_type": "execute_result"
    }
   ],
   "source": [
    "diario_df[\"comprimento\"].max()"
   ]
  },
  {
   "cell_type": "code",
   "execution_count": 40,
   "id": "98057b31",
   "metadata": {},
   "outputs": [
    {
     "data": {
      "text/plain": [
       "568.8541397824108"
      ]
     },
     "execution_count": 40,
     "metadata": {},
     "output_type": "execute_result"
    }
   ],
   "source": [
    "diario_df[\"comprimento\"].mean()"
   ]
  },
  {
   "cell_type": "code",
   "execution_count": 41,
   "id": "eb1dd779",
   "metadata": {},
   "outputs": [
    {
     "data": {
      "text/plain": [
       "239.0"
      ]
     },
     "execution_count": 41,
     "metadata": {},
     "output_type": "execute_result"
    }
   ],
   "source": [
    "diario_df[\"comprimento\"].median()"
   ]
  },
  {
   "cell_type": "markdown",
   "id": "dd007a79",
   "metadata": {},
   "source": [
    "## Histograma"
   ]
  },
  {
   "cell_type": "code",
   "execution_count": 42,
   "id": "d2ea6fa6",
   "metadata": {},
   "outputs": [
    {
     "data": {
      "text/plain": [
       "<AxesSubplot:>"
      ]
     },
     "execution_count": 42,
     "metadata": {},
     "output_type": "execute_result"
    },
    {
     "data": {
      "image/png": "[encoded data removed]",
      "text/plain": [
       "<Figure size 432x288 with 1 Axes>"
      ]
     },
     "metadata": {},
     "output_type": "display_data"
    }
   ],
   "source": [
    "diario_df[\"comprimento\"].hist(log=True)"
   ]
  },
  {
   "cell_type": "markdown",
   "id": "92876b9e",
   "metadata": {},
   "source": [
    "## Boxsplot"
   ]
  },
  {
   "cell_type": "code",
   "execution_count": 43,
   "id": "c84a0af5",
   "metadata": {},
   "outputs": [
    {
     "data": {
      "text/plain": [
       "Text(0.5, 1.0, 'Boxplot do comprimento dos segmentos com outliers')"
      ]
     },
     "execution_count": 43,
     "metadata": {},
     "output_type": "execute_result"
    },
    {
     "data": {
      "image/png": "[encoded data removed]",
      "text/plain": [
       "<Figure size 576x576 with 1 Axes>"
      ]
     },
     "metadata": {},
     "output_type": "display_data"
    }
   ],
   "source": [
    "diario_df.boxplot(\"comprimento\", figsize=(8,8))\n",
    "plt.title(\"Boxplot do comprimento dos segmentos com outliers\", fontsize=20)"
   ]
  },
  {
   "cell_type": "code",
   "execution_count": 45,
   "id": "0c99218a",
   "metadata": {},
   "outputs": [
    {
     "data": {
      "text/plain": [
       "Text(0.5, 1.0, 'Boxplot do comprimento dos segmentos sem outliers')"
      ]
     },
     "execution_count": 45,
     "metadata": {},
     "output_type": "execute_result"
    },
    {
     "data": {
      "image/png": "[encoded data removed]",
      "text/plain": [
       "<Figure size 576x576 with 1 Axes>"
      ]
     },
     "metadata": {},
     "output_type": "display_data"
    }
   ],
   "source": [
    "diario_df.boxplot(\"comprimento\", showfliers=False, figsize=(8,8))\n",
    "plt.title(\"Boxplot do comprimento dos segmentos sem outliers\", fontsize=20)"
   ]
  },
  {
   "cell_type": "markdown",
   "id": "b99f4b97",
   "metadata": {},
   "source": [
    "# Licitações"
   ]
  },
  {
   "cell_type": "code",
   "execution_count": 4,
   "id": "0984c207",
   "metadata": {},
   "outputs": [],
   "source": [
    "licitacoes = pd.read_csv(\"/dados01/workspace/ufmg.m07dcc/M05-dev/indexer/indices/licitacoes/32-licitacoes-das-obras-com_entidades.csv\")\n",
    "licitacoes = licitacoes[['titulo', 'conteudo', 'tipo_documento', 'fonte', 'instancia', \"data\"]]\n",
    "licitacoes.columns = ['titulo', 'materia', 'subtitulo', 'publicador', 'origin', \"id\"]"
   ]
  },
  {
   "cell_type": "code",
   "execution_count": 6,
   "id": "b1ddfef3",
   "metadata": {},
   "outputs": [
    {
     "name": "stderr",
     "output_type": "stream",
     "text": [
      "100%|█████████████████████████████████████████████| 11240/11240 [00:42<00:00, 267.59it/s]\n"
     ]
    }
   ],
   "source": [
    "from transformers import AutoTokenizer\n",
    "tokenizer = AutoTokenizer.from_pretrained('neuralmind/bert-base-portuguese-cased')\n",
    "\n",
    "sizes = []\n",
    "for idx, row in tqdm(licitacoes.iterrows(), total = len(licitacoes)):\n",
    "    sizes.append(len(tokenizer(row[\"materia\"])[\"input_ids\"]))"
   ]
  },
  {
   "cell_type": "code",
   "execution_count": 7,
   "id": "96e4a8e5",
   "metadata": {},
   "outputs": [
    {
     "data": {
      "text/plain": [
       "Text(0.5, 1.0, 'Boxplot do comprimento dos segmentos sem outliers')"
      ]
     },
     "execution_count": 7,
     "metadata": {},
     "output_type": "execute_result"
    },
    {
     "data": {
      "image/png": "[encoded data removed]",
      "text/plain": [
       "<Figure size 576x576 with 1 Axes>"
      ]
     },
     "metadata": {},
     "output_type": "display_data"
    }
   ],
   "source": [
    "licitacoes[\"comprimento\"] = sizes\n",
    "licitacoes.boxplot(\"comprimento\", showfliers=False, figsize=(8,8))\n",
    "plt.title(\"Boxplot do comprimento dos segmentos sem outliers\", fontsize=20)"
   ]
  },
  {
   "cell_type": "markdown",
   "id": "597baa9b",
   "metadata": {},
   "source": [
    "# Processos"
   ]
  },
  {
   "cell_type": "code",
   "execution_count": 10,
   "id": "9e035196",
   "metadata": {},
   "outputs": [],
   "source": [
    "processos = pd.read_csv(\"/dados01/workspace/ufmg.m07dcc/M05-dev/indexer/indices/processos/27-tribunais-regionais-federais-trf2-com_metadata.csv\")\n",
    "processos = processos[['conteudo', 'fonte', 'numero_processo', 'titulo', 'tipo_documento', 'instancia']]\n",
    "processos.columns = ['materia', 'ṕublicador', 'id', 'titulo', 'subtitulo', \"origin\"]\n",
    "df = processos\n",
    "df = df[df[\"materia\"].apply(bool)]\n",
    "df = df[df[\"materia\"].apply(lambda x: type(x) == str)]\n",
    "df = df[df[\"materia\"].apply(lambda x: len(x) > 20)]"
   ]
  },
  {
   "cell_type": "code",
   "execution_count": 11,
   "id": "8a7018c1",
   "metadata": {},
   "outputs": [
    {
     "name": "stderr",
     "output_type": "stream",
     "text": [
      "100%|███████████████████████████████████████████| 164455/164455 [11:14<00:00, 243.66it/s]\n"
     ]
    }
   ],
   "source": [
    "from transformers import AutoTokenizer\n",
    "tokenizer = AutoTokenizer.from_pretrained('neuralmind/bert-base-portuguese-cased')\n",
    "\n",
    "sizes = []\n",
    "for idx, row in tqdm(df.iterrows(), total = len(df)):\n",
    "    sizes.append(len(tokenizer(row[\"materia\"])[\"input_ids\"]))"
   ]
  },
  {
   "cell_type": "code",
   "execution_count": 12,
   "id": "4b0d9512",
   "metadata": {},
   "outputs": [
    {
     "data": {
      "text/plain": [
       "Text(0.5, 1.0, 'Boxplot do comprimento dos segmentos sem outliers')"
      ]
     },
     "execution_count": 12,
     "metadata": {},
     "output_type": "execute_result"
    },
    {
     "data": {
      "image/png": "[encoded data removed]",
      "text/plain": [
       "<Figure size 576x576 with 1 Axes>"
      ]
     },
     "metadata": {},
     "output_type": "display_data"
    }
   ],
   "source": [
    "df[\"comprimento\"] = sizes\n",
    "df.boxplot(\"comprimento\", showfliers=False, figsize=(8,8))\n",
    "plt.title(\"Boxplot do comprimento dos segmentos sem outliers\", fontsize=20)"
   ]
  },
  {
   "cell_type": "code",
   "execution_count": null,
   "id": "f001e3c9",
   "metadata": {},
   "outputs": [],
   "source": []
  }
 ],
 "metadata": {
  "kernelspec": {
   "display_name": "Python 3 (ipykernel)",
   "language": "python",
   "name": "python3"
  },
  "language_info": {
   "codemirror_mode": {
    "name": "ipython",
    "version": 3
   },
   "file_extension": ".py",
   "mimetype": "text/x-python",
   "name": "python",
   "nbconvert_exporter": "python",
   "pygments_lexer": "ipython3",
   "version": "3.8.3"
  }
 },
 "nbformat": 4,
 "nbformat_minor": 5
}
